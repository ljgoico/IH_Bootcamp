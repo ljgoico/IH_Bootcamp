{
 "cells": [
  {
   "cell_type": "markdown",
   "metadata": {
    "toc": true
   },
   "source": [
    "<h1>Table of Contents<span class=\"tocSkip\"></span></h1>\n",
    "<div class=\"toc\"><ul class=\"toc-item\"><li><span><a href=\"#Poker-Game\" data-toc-modified-id=\"Poker-Game-1\"><span class=\"toc-item-num\">1&nbsp;&nbsp;</span>Poker Game</a></span><ul class=\"toc-item\"><li><span><a href=\"#Odds\" data-toc-modified-id=\"Odds-1.1\"><span class=\"toc-item-num\">1.1&nbsp;&nbsp;</span>Odds</a></span></li><li><span><a href=\"#Playing-poker-with-Python\" data-toc-modified-id=\"Playing-poker-with-Python-1.2\"><span class=\"toc-item-num\">1.2&nbsp;&nbsp;</span>Playing poker with Python</a></span></li></ul></li></ul></div>"
   ]
  },
  {
   "cell_type": "markdown",
   "metadata": {
    "ExecuteTime": {
     "end_time": "2019-07-13T09:38:12.736681Z",
     "start_time": "2019-07-13T09:38:12.733468Z"
    }
   },
   "source": [
    "# Poker Game"
   ]
  },
  {
   "cell_type": "markdown",
   "metadata": {},
   "source": [
    "## Odds"
   ]
  },
  {
   "cell_type": "markdown",
   "metadata": {},
   "source": [
    "The odds in this case are 1/2. We may also say that the odds are 2:1. It means that for every 3 die rolls 1 will result in event A occurring and 2 will not.\n",
    "\n",
    "Let's define a Python function that computes the odds and verify this result."
   ]
  },
  {
   "cell_type": "code",
   "execution_count": 1,
   "metadata": {
    "ExecuteTime": {
     "end_time": "2019-08-02T06:37:47.954891Z",
     "start_time": "2019-08-02T06:37:47.951977Z"
    }
   },
   "outputs": [],
   "source": [
    "def odds(prob):\n",
    "    return(prob/(1-prob))"
   ]
  },
  {
   "cell_type": "code",
   "execution_count": 2,
   "metadata": {
    "ExecuteTime": {
     "end_time": "2019-08-02T06:37:55.632790Z",
     "start_time": "2019-08-02T06:37:55.623511Z"
    }
   },
   "outputs": [
    {
     "data": {
      "text/plain": [
       "0.49999999999999994"
      ]
     },
     "execution_count": 2,
     "metadata": {},
     "output_type": "execute_result"
    }
   ],
   "source": [
    "odds(1/3)"
   ]
  },
  {
   "cell_type": "markdown",
   "metadata": {},
   "source": [
    "## Playing poker with Python"
   ]
  },
  {
   "cell_type": "markdown",
   "metadata": {},
   "source": [
    "The Scipy library contains a function for computing combinations called comb. For example, here we will compute 52 choose 5."
   ]
  },
  {
   "cell_type": "code",
   "execution_count": 7,
   "metadata": {
    "ExecuteTime": {
     "end_time": "2019-08-02T06:54:20.787311Z",
     "start_time": "2019-08-02T06:54:20.741363Z"
    }
   },
   "outputs": [
    {
     "data": {
      "text/plain": [
       "2598960.0"
      ]
     },
     "execution_count": 7,
     "metadata": {},
     "output_type": "execute_result"
    }
   ],
   "source": [
    "from scipy.special import comb\n",
    "\n",
    "comb(52, 5)"
   ]
  },
  {
   "cell_type": "markdown",
   "metadata": {},
   "source": [
    "Using Python we can compute the probability and the odds. We will use the odds function that we have previously defined in this lesson."
   ]
  },
  {
   "cell_type": "code",
   "execution_count": 8,
   "metadata": {
    "ExecuteTime": {
     "end_time": "2019-08-02T06:54:22.340273Z",
     "start_time": "2019-08-02T06:54:22.335615Z"
    }
   },
   "outputs": [
    {
     "data": {
      "text/plain": [
       "1.5390771693292702e-06"
      ]
     },
     "execution_count": 8,
     "metadata": {},
     "output_type": "execute_result"
    }
   ],
   "source": [
    "royal_flush_prob = 4/comb(52, 5)\n",
    "royal_flush_prob"
   ]
  },
  {
   "cell_type": "code",
   "execution_count": 9,
   "metadata": {
    "ExecuteTime": {
     "end_time": "2019-08-02T06:54:22.790530Z",
     "start_time": "2019-08-02T06:54:22.786084Z"
    }
   },
   "outputs": [
    {
     "data": {
      "text/plain": [
       "1.5390795380914492e-06"
      ]
     },
     "execution_count": 9,
     "metadata": {},
     "output_type": "execute_result"
    }
   ],
   "source": [
    "royal_flush_odds = odds(royal_flush_prob)\n",
    "royal_flush_odds"
   ]
  },
  {
   "cell_type": "markdown",
   "metadata": {},
   "source": [
    "The odds are 649,739:1. Which means that for every 649,740 hands played, one will be a royal flush and the rest will not."
   ]
  },
  {
   "cell_type": "code",
   "execution_count": 10,
   "metadata": {
    "ExecuteTime": {
     "end_time": "2019-08-02T06:54:23.689654Z",
     "start_time": "2019-08-02T06:54:23.685431Z"
    }
   },
   "outputs": [
    {
     "data": {
      "text/plain": [
       "1.3851694523963431e-05"
      ]
     },
     "execution_count": 10,
     "metadata": {},
     "output_type": "execute_result"
    }
   ],
   "source": [
    "straight_flush_prob = (comb(10,1)*comb(4,1)-comb(4,1))/comb(52,5)\n",
    "straight_flush_prob"
   ]
  },
  {
   "cell_type": "code",
   "execution_count": 11,
   "metadata": {
    "ExecuteTime": {
     "end_time": "2019-08-02T06:54:24.207320Z",
     "start_time": "2019-08-02T06:54:24.203308Z"
    }
   },
   "outputs": [
    {
     "data": {
      "text/plain": [
       "1.385188639606237e-05"
      ]
     },
     "execution_count": 11,
     "metadata": {},
     "output_type": "execute_result"
    }
   ],
   "source": [
    "straight_flush_odds = odds(straight_flush_prob)\n",
    "straight_flush_odds"
   ]
  },
  {
   "cell_type": "markdown",
   "metadata": {},
   "source": [
    "The odds of a straight flush are 72,192:1."
   ]
  }
 ],
 "metadata": {
  "kernelspec": {
   "display_name": "Python 3",
   "language": "python",
   "name": "python3"
  },
  "language_info": {
   "codemirror_mode": {
    "name": "ipython",
    "version": 3
   },
   "file_extension": ".py",
   "mimetype": "text/x-python",
   "name": "python",
   "nbconvert_exporter": "python",
   "pygments_lexer": "ipython3",
   "version": "3.7.3"
  },
  "latex_envs": {
   "LaTeX_envs_menu_present": true,
   "autoclose": false,
   "autocomplete": true,
   "bibliofile": "biblio.bib",
   "cite_by": "apalike",
   "current_citInitial": 1,
   "eqLabelWithNumbers": true,
   "eqNumInitial": 1,
   "hotkeys": {
    "equation": "Ctrl-E",
    "itemize": "Ctrl-I"
   },
   "labels_anchors": false,
   "latex_user_defs": false,
   "report_style_numbering": false,
   "user_envs_cfg": false
  },
  "toc": {
   "base_numbering": 1,
   "nav_menu": {},
   "number_sections": true,
   "sideBar": true,
   "skip_h1_title": false,
   "title_cell": "Table of Contents",
   "title_sidebar": "Contents",
   "toc_cell": true,
   "toc_position": {},
   "toc_section_display": true,
   "toc_window_display": false
  },
  "varInspector": {
   "cols": {
    "lenName": 16,
    "lenType": 16,
    "lenVar": 40
   },
   "kernels_config": {
    "python": {
     "delete_cmd_postfix": "",
     "delete_cmd_prefix": "del ",
     "library": "var_list.py",
     "varRefreshCmd": "print(var_dic_list())"
    },
    "r": {
     "delete_cmd_postfix": ") ",
     "delete_cmd_prefix": "rm(",
     "library": "var_list.r",
     "varRefreshCmd": "cat(var_dic_list()) "
    }
   },
   "types_to_exclude": [
    "module",
    "function",
    "builtin_function_or_method",
    "instance",
    "_Feature"
   ],
   "window_display": false
  }
 },
 "nbformat": 4,
 "nbformat_minor": 2
}
