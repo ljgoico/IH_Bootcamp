{
 "cells": [
  {
   "cell_type": "markdown",
   "metadata": {},
   "source": [
    "# My holidays choice"
   ]
  },
  {
   "cell_type": "code",
   "execution_count": 14,
   "metadata": {},
   "outputs": [],
   "source": [
    "def name():\n",
    "    name = input()\n",
    "    print(\"My name is\", name)"
   ]
  },
  {
   "cell_type": "code",
   "execution_count": 15,
   "metadata": {},
   "outputs": [
    {
     "name": "stdout",
     "output_type": "stream",
     "text": [
      "Laura\n",
      "My name is Laura\n"
     ]
    }
   ],
   "source": [
    "name()"
   ]
  },
  {
   "cell_type": "markdown",
   "metadata": {},
   "source": [
    "![My picture](https://media.licdn.com/dms/image/C5603AQGCAENWELXxfQ/profile-displayphoto-shrink_200_200/0?e=1565827200&v=beta&t=3OnofD1EVQvj_lpaLuOFGR58nuaWelFaoBCF3yaZFvw)"
   ]
  },
  {
   "cell_type": "code",
   "execution_count": 16,
   "metadata": {},
   "outputs": [],
   "source": [
    "def holidayspref():\n",
    "    place = input()\n",
    "    print(\"I'd like to go to\", place)"
   ]
  },
  {
   "cell_type": "markdown",
   "metadata": {},
   "source": [
    "### Art, music and working bee(r)s"
   ]
  },
  {
   "cell_type": "markdown",
   "metadata": {},
   "source": [
    "![Myimage](https://trucoslondres.com/wp-content/uploads/2016/04/manchester.jpg)"
   ]
  },
  {
   "cell_type": "code",
   "execution_count": 17,
   "metadata": {},
   "outputs": [
    {
     "name": "stdout",
     "output_type": "stream",
     "text": [
      "Manchester\n",
      "I'd like to go to Manchester\n"
     ]
    }
   ],
   "source": [
    "holidayspref()"
   ]
  },
  {
   "cell_type": "markdown",
   "metadata": {},
   "source": [
    "[![My video](https://i2-prod.manchestereveningnews.co.uk/incoming/article14777502.ece/ALTERNATES/s615b/JS87286274.jpg)](https://www.youtube.com/watch?v=o_TKIM1vUEs)"
   ]
  }
 ],
 "metadata": {
  "kernelspec": {
   "display_name": "Python 3",
   "language": "python",
   "name": "python3"
  },
  "language_info": {
   "codemirror_mode": {
    "name": "ipython",
    "version": 3
   },
   "file_extension": ".py",
   "mimetype": "text/x-python",
   "name": "python",
   "nbconvert_exporter": "python",
   "pygments_lexer": "ipython3",
   "version": "3.7.3"
  }
 },
 "nbformat": 4,
 "nbformat_minor": 2
}
