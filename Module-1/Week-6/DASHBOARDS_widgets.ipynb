{
 "cells": [
  {
   "cell_type": "code",
   "execution_count": 45,
   "metadata": {},
   "outputs": [
    {
     "name": "stdout",
     "output_type": "stream",
     "text": [
      "Requirement already satisfied: jupyter_dashboards in /anaconda3/lib/python3.7/site-packages (0.7.0)\n",
      "Requirement already satisfied: notebook>=4.0 in /anaconda3/lib/python3.7/site-packages (from jupyter_dashboards) (5.7.8)\n",
      "Requirement already satisfied: jupyter-core>=4.4.0 in /anaconda3/lib/python3.7/site-packages (from notebook>=4.0->jupyter_dashboards) (4.4.0)\n",
      "Requirement already satisfied: Send2Trash in /anaconda3/lib/python3.7/site-packages (from notebook>=4.0->jupyter_dashboards) (1.5.0)\n",
      "Requirement already satisfied: nbconvert in /anaconda3/lib/python3.7/site-packages (from notebook>=4.0->jupyter_dashboards) (5.4.1)\n",
      "Requirement already satisfied: traitlets>=4.2.1 in /anaconda3/lib/python3.7/site-packages (from notebook>=4.0->jupyter_dashboards) (4.3.2)\n",
      "Requirement already satisfied: terminado>=0.8.1 in /anaconda3/lib/python3.7/site-packages (from notebook>=4.0->jupyter_dashboards) (0.8.1)\n",
      "Requirement already satisfied: jupyter-client>=5.2.0 in /anaconda3/lib/python3.7/site-packages (from notebook>=4.0->jupyter_dashboards) (5.2.4)\n",
      "Requirement already satisfied: ipython-genutils in /anaconda3/lib/python3.7/site-packages (from notebook>=4.0->jupyter_dashboards) (0.2.0)\n",
      "Requirement already satisfied: ipykernel in /anaconda3/lib/python3.7/site-packages (from notebook>=4.0->jupyter_dashboards) (5.1.0)\n",
      "Requirement already satisfied: prometheus-client in /anaconda3/lib/python3.7/site-packages (from notebook>=4.0->jupyter_dashboards) (0.6.0)\n",
      "Requirement already satisfied: nbformat in /anaconda3/lib/python3.7/site-packages (from notebook>=4.0->jupyter_dashboards) (4.4.0)\n",
      "Requirement already satisfied: tornado<7,>=4.1 in /anaconda3/lib/python3.7/site-packages (from notebook>=4.0->jupyter_dashboards) (6.0.2)\n",
      "Requirement already satisfied: pyzmq>=17 in /anaconda3/lib/python3.7/site-packages (from notebook>=4.0->jupyter_dashboards) (18.0.0)\n",
      "Requirement already satisfied: jinja2 in /anaconda3/lib/python3.7/site-packages (from notebook>=4.0->jupyter_dashboards) (2.10)\n",
      "Requirement already satisfied: mistune>=0.8.1 in /anaconda3/lib/python3.7/site-packages (from nbconvert->notebook>=4.0->jupyter_dashboards) (0.8.4)\n",
      "Requirement already satisfied: pygments in /anaconda3/lib/python3.7/site-packages (from nbconvert->notebook>=4.0->jupyter_dashboards) (2.3.1)\n",
      "Requirement already satisfied: entrypoints>=0.2.2 in /anaconda3/lib/python3.7/site-packages (from nbconvert->notebook>=4.0->jupyter_dashboards) (0.3)\n",
      "Requirement already satisfied: bleach in /anaconda3/lib/python3.7/site-packages (from nbconvert->notebook>=4.0->jupyter_dashboards) (3.1.0)\n",
      "Requirement already satisfied: pandocfilters>=1.4.1 in /anaconda3/lib/python3.7/site-packages (from nbconvert->notebook>=4.0->jupyter_dashboards) (1.4.2)\n",
      "Requirement already satisfied: testpath in /anaconda3/lib/python3.7/site-packages (from nbconvert->notebook>=4.0->jupyter_dashboards) (0.4.2)\n",
      "Requirement already satisfied: defusedxml in /anaconda3/lib/python3.7/site-packages (from nbconvert->notebook>=4.0->jupyter_dashboards) (0.5.0)\n",
      "Requirement already satisfied: six in /anaconda3/lib/python3.7/site-packages (from traitlets>=4.2.1->notebook>=4.0->jupyter_dashboards) (1.12.0)\n",
      "Requirement already satisfied: decorator in /anaconda3/lib/python3.7/site-packages (from traitlets>=4.2.1->notebook>=4.0->jupyter_dashboards) (4.4.0)\n",
      "Requirement already satisfied: python-dateutil>=2.1 in /anaconda3/lib/python3.7/site-packages (from jupyter-client>=5.2.0->notebook>=4.0->jupyter_dashboards) (2.8.0)\n",
      "Requirement already satisfied: ipython>=5.0.0 in /anaconda3/lib/python3.7/site-packages (from ipykernel->notebook>=4.0->jupyter_dashboards) (7.4.0)\n",
      "Requirement already satisfied: jsonschema!=2.5.0,>=2.4 in /anaconda3/lib/python3.7/site-packages (from nbformat->notebook>=4.0->jupyter_dashboards) (3.0.1)\n",
      "Requirement already satisfied: MarkupSafe>=0.23 in /anaconda3/lib/python3.7/site-packages (from jinja2->notebook>=4.0->jupyter_dashboards) (1.1.1)\n",
      "Requirement already satisfied: webencodings in /anaconda3/lib/python3.7/site-packages (from bleach->nbconvert->notebook>=4.0->jupyter_dashboards) (0.5.1)\n",
      "Requirement already satisfied: appnope; sys_platform == \"darwin\" in /anaconda3/lib/python3.7/site-packages (from ipython>=5.0.0->ipykernel->notebook>=4.0->jupyter_dashboards) (0.1.0)\n",
      "Requirement already satisfied: jedi>=0.10 in /anaconda3/lib/python3.7/site-packages (from ipython>=5.0.0->ipykernel->notebook>=4.0->jupyter_dashboards) (0.13.3)\n",
      "Requirement already satisfied: backcall in /anaconda3/lib/python3.7/site-packages (from ipython>=5.0.0->ipykernel->notebook>=4.0->jupyter_dashboards) (0.1.0)\n",
      "Requirement already satisfied: pexpect; sys_platform != \"win32\" in /anaconda3/lib/python3.7/site-packages (from ipython>=5.0.0->ipykernel->notebook>=4.0->jupyter_dashboards) (4.6.0)\n",
      "Requirement already satisfied: setuptools>=18.5 in /anaconda3/lib/python3.7/site-packages (from ipython>=5.0.0->ipykernel->notebook>=4.0->jupyter_dashboards) (40.8.0)\n",
      "Requirement already satisfied: prompt-toolkit<2.1.0,>=2.0.0 in /anaconda3/lib/python3.7/site-packages (from ipython>=5.0.0->ipykernel->notebook>=4.0->jupyter_dashboards) (2.0.9)\n",
      "Requirement already satisfied: pickleshare in /anaconda3/lib/python3.7/site-packages (from ipython>=5.0.0->ipykernel->notebook>=4.0->jupyter_dashboards) (0.7.5)\n",
      "Requirement already satisfied: attrs>=17.4.0 in /anaconda3/lib/python3.7/site-packages (from jsonschema!=2.5.0,>=2.4->nbformat->notebook>=4.0->jupyter_dashboards) (19.1.0)\n",
      "Requirement already satisfied: pyrsistent>=0.14.0 in /anaconda3/lib/python3.7/site-packages (from jsonschema!=2.5.0,>=2.4->nbformat->notebook>=4.0->jupyter_dashboards) (0.14.11)\n",
      "Requirement already satisfied: parso>=0.3.0 in /anaconda3/lib/python3.7/site-packages (from jedi>=0.10->ipython>=5.0.0->ipykernel->notebook>=4.0->jupyter_dashboards) (0.3.4)\n",
      "Requirement already satisfied: ptyprocess>=0.5 in /anaconda3/lib/python3.7/site-packages (from pexpect; sys_platform != \"win32\"->ipython>=5.0.0->ipykernel->notebook>=4.0->jupyter_dashboards) (0.6.0)\n",
      "Requirement already satisfied: wcwidth in /anaconda3/lib/python3.7/site-packages (from prompt-toolkit<2.1.0,>=2.0.0->ipython>=5.0.0->ipykernel->notebook>=4.0->jupyter_dashboards) (0.1.7)\n"
     ]
    }
   ],
   "source": [
    "import ipywidgets as widgets\n",
    "!pip install jupyter_dashboards\n",
    "from IPython.display import display\n",
    "import pandas as pd\n",
    "import numpy as np\n"
   ]
  },
  {
   "cell_type": "code",
   "execution_count": 22,
   "metadata": {},
   "outputs": [],
   "source": [
    "import os\n",
    "os.environ[\"GOOGLE_APPLICATION_CREDENTIALS\"]=\"/Users/ljgoico/desktop/ironhack/Ironhack Data Analytics.json\""
   ]
  },
  {
   "cell_type": "code",
   "execution_count": 23,
   "metadata": {},
   "outputs": [],
   "source": [
    "from google.cloud import bigquery\n",
    "\n",
    "client = bigquery.Client()"
   ]
  },
  {
   "cell_type": "code",
   "execution_count": 24,
   "metadata": {},
   "outputs": [
    {
     "data": {
      "application/vnd.jupyter.widget-view+json": {
       "model_id": "5289cc32f10c49e7ba7795ead168f619",
       "version_major": 2,
       "version_minor": 0
      },
      "text/plain": [
       "IntSlider(value=3, description='Slider:', max=10)"
      ]
     },
     "metadata": {},
     "output_type": "display_data"
    }
   ],
   "source": [
    "widgets.IntSlider(\n",
    "    min=0,\n",
    "    max=10,\n",
    "    step=1,\n",
    "    description='Slider:',\n",
    "    value=3\n",
    ")"
   ]
  },
  {
   "cell_type": "code",
   "execution_count": 25,
   "metadata": {},
   "outputs": [
    {
     "data": {
      "application/vnd.jupyter.widget-view+json": {
       "model_id": "0289e59f0f89418a8e2f0c1f3edb5024",
       "version_major": 2,
       "version_minor": 0
      },
      "text/plain": [
       "IntSlider(value=0)"
      ]
     },
     "metadata": {},
     "output_type": "display_data"
    }
   ],
   "source": [
    "slider = widgets.IntSlider()\n",
    "display(slider)"
   ]
  },
  {
   "cell_type": "code",
   "execution_count": 26,
   "metadata": {},
   "outputs": [
    {
     "data": {
      "text/plain": [
       "0"
      ]
     },
     "execution_count": 26,
     "metadata": {},
     "output_type": "execute_result"
    }
   ],
   "source": [
    "#te da el valor en el que está puesto el slider\n",
    "slider.value"
   ]
  },
  {
   "cell_type": "code",
   "execution_count": 27,
   "metadata": {},
   "outputs": [
    {
     "data": {
      "application/vnd.jupyter.widget-view+json": {
       "model_id": "9f9b2ce10d694d1086c820cb59c43d56",
       "version_major": 2,
       "version_minor": 0
      },
      "text/plain": [
       "IntSlider(value=0)"
      ]
     },
     "metadata": {},
     "output_type": "display_data"
    },
    {
     "data": {
      "application/vnd.jupyter.widget-view+json": {
       "model_id": "3b2e9975673247b187dad30dd56b2b45",
       "version_major": 2,
       "version_minor": 0
      },
      "text/plain": [
       "IntText(value=0)"
      ]
     },
     "metadata": {},
     "output_type": "display_data"
    }
   ],
   "source": [
    "#linkear 2 widgets\n",
    "\n",
    "slider = widgets.IntSlider()\n",
    "text = widgets.IntText()\n",
    "display(slider,text)\n",
    "widgets.jslink((slider, 'value'), (text, 'value'))"
   ]
  },
  {
   "cell_type": "code",
   "execution_count": 28,
   "metadata": {},
   "outputs": [],
   "source": [
    "#crear un button\n",
    "\n",
    "btn = widgets.Button(description = 'Medium')"
   ]
  },
  {
   "cell_type": "code",
   "execution_count": 29,
   "metadata": {},
   "outputs": [
    {
     "data": {
      "application/vnd.jupyter.widget-view+json": {
       "model_id": "e094a3c4d2534b35932012114713a68d",
       "version_major": 2,
       "version_minor": 0
      },
      "text/plain": [
       "Button(description='Medium', style=ButtonStyle())"
      ]
     },
     "metadata": {},
     "output_type": "display_data"
    }
   ],
   "source": [
    "#lo mostramos pero no pasa nada\n",
    "\n",
    "display(btn)"
   ]
  },
  {
   "cell_type": "code",
   "execution_count": 30,
   "metadata": {},
   "outputs": [],
   "source": [
    "#tenemos que crear una función para decirle al botón que debe hacer cuando lo aprietas\n",
    "\n",
    "def btn_eventhandler(obj):\n",
    "    print('Hello from the {} button!'.format(obj.description))\n",
    "    \n",
    "btn.on_click(btn_eventhandler)"
   ]
  },
  {
   "cell_type": "code",
   "execution_count": 31,
   "metadata": {},
   "outputs": [
    {
     "data": {
      "application/vnd.jupyter.widget-view+json": {
       "model_id": "e094a3c4d2534b35932012114713a68d",
       "version_major": 2,
       "version_minor": 0
      },
      "text/plain": [
       "Button(description='Medium', style=ButtonStyle())"
      ]
     },
     "metadata": {},
     "output_type": "display_data"
    }
   ],
   "source": [
    "display(btn)"
   ]
  },
  {
   "cell_type": "code",
   "execution_count": 32,
   "metadata": {},
   "outputs": [],
   "source": [
    "QUERY = '''\n",
    "SELECT \n",
    "    end_station_name,\n",
    "    usertype,\n",
    "    gender,\n",
    "    COUNT(end_station_id) AS total_trips,\n",
    "    AVG(tripduration) AS average_trip_duration\n",
    "FROM `bigquery-public-data.new_york_citibike.citibike_trips`\n",
    "   \n",
    "GROUP BY \n",
    "    1,2,3\n",
    "HAVING\n",
    "    COUNT(end_station_id)>20000\n",
    "''' "
   ]
  },
  {
   "cell_type": "code",
   "execution_count": 33,
   "metadata": {},
   "outputs": [
    {
     "data": {
      "text/html": [
       "<div>\n",
       "<style scoped>\n",
       "    .dataframe tbody tr th:only-of-type {\n",
       "        vertical-align: middle;\n",
       "    }\n",
       "\n",
       "    .dataframe tbody tr th {\n",
       "        vertical-align: top;\n",
       "    }\n",
       "\n",
       "    .dataframe thead th {\n",
       "        text-align: right;\n",
       "    }\n",
       "</style>\n",
       "<table border=\"1\" class=\"dataframe\">\n",
       "  <thead>\n",
       "    <tr style=\"text-align: right;\">\n",
       "      <th></th>\n",
       "      <th>end_station_name</th>\n",
       "      <th>usertype</th>\n",
       "      <th>gender</th>\n",
       "      <th>total_trips</th>\n",
       "      <th>average_trip_duration</th>\n",
       "    </tr>\n",
       "  </thead>\n",
       "  <tbody>\n",
       "    <tr>\n",
       "      <th>0</th>\n",
       "      <td>Lexington Ave &amp; E 24 St</td>\n",
       "      <td>Subscriber</td>\n",
       "      <td>male</td>\n",
       "      <td>188851</td>\n",
       "      <td>636.699281</td>\n",
       "    </tr>\n",
       "    <tr>\n",
       "      <th>1</th>\n",
       "      <td>W 20 St &amp; 7 Ave</td>\n",
       "      <td>Subscriber</td>\n",
       "      <td>male</td>\n",
       "      <td>142190</td>\n",
       "      <td>643.510655</td>\n",
       "    </tr>\n",
       "    <tr>\n",
       "      <th>2</th>\n",
       "      <td>W 13 St &amp; 6 Ave</td>\n",
       "      <td>Subscriber</td>\n",
       "      <td>female</td>\n",
       "      <td>46642</td>\n",
       "      <td>738.621114</td>\n",
       "    </tr>\n",
       "    <tr>\n",
       "      <th>3</th>\n",
       "      <td>W 56 St &amp; 10 Ave</td>\n",
       "      <td>Subscriber</td>\n",
       "      <td>male</td>\n",
       "      <td>82433</td>\n",
       "      <td>763.807941</td>\n",
       "    </tr>\n",
       "    <tr>\n",
       "      <th>4</th>\n",
       "      <td>W 26 St &amp; 8 Ave</td>\n",
       "      <td>Subscriber</td>\n",
       "      <td>male</td>\n",
       "      <td>153533</td>\n",
       "      <td>659.200537</td>\n",
       "    </tr>\n",
       "  </tbody>\n",
       "</table>\n",
       "</div>"
      ],
      "text/plain": [
       "          end_station_name    usertype  gender  total_trips  \\\n",
       "0  Lexington Ave & E 24 St  Subscriber    male       188851   \n",
       "1          W 20 St & 7 Ave  Subscriber    male       142190   \n",
       "2          W 13 St & 6 Ave  Subscriber  female        46642   \n",
       "3         W 56 St & 10 Ave  Subscriber    male        82433   \n",
       "4          W 26 St & 8 Ave  Subscriber    male       153533   \n",
       "\n",
       "   average_trip_duration  \n",
       "0             636.699281  \n",
       "1             643.510655  \n",
       "2             738.621114  \n",
       "3             763.807941  \n",
       "4             659.200537  "
      ]
     },
     "execution_count": 33,
     "metadata": {},
     "output_type": "execute_result"
    }
   ],
   "source": [
    "query_job = client.query(query = QUERY)\n",
    "df = query_job.to_dataframe()\n",
    "df.head()"
   ]
  },
  {
   "cell_type": "code",
   "execution_count": 34,
   "metadata": {},
   "outputs": [],
   "source": [
    "ALL = 'ALL'\n",
    "\n",
    "def unique_values_all(array):\n",
    "    unique = array.unique().tolist()\n",
    "    unique.sort()\n",
    "    unique.insert(0, ALL)\n",
    "    return unique\n",
    "    \n"
   ]
  },
  {
   "cell_type": "code",
   "execution_count": 35,
   "metadata": {},
   "outputs": [
    {
     "data": {
      "text/plain": [
       "['ALL', 'female', 'male', 'unknown']"
      ]
     },
     "execution_count": 35,
     "metadata": {},
     "output_type": "execute_result"
    }
   ],
   "source": [
    "unique_values_all(df.gender)"
   ]
  },
  {
   "cell_type": "code",
   "execution_count": 36,
   "metadata": {},
   "outputs": [
    {
     "data": {
      "text/plain": [
       "['ALL', 'Customer', 'Subscriber']"
      ]
     },
     "execution_count": 36,
     "metadata": {},
     "output_type": "execute_result"
    }
   ],
   "source": [
    "unique_values_all(df.usertype)"
   ]
  },
  {
   "cell_type": "code",
   "execution_count": 37,
   "metadata": {},
   "outputs": [],
   "source": [
    "dropdown_usertype = widgets.Dropdown(options = unique_values_all(df.usertype))\n"
   ]
  },
  {
   "cell_type": "code",
   "execution_count": 38,
   "metadata": {},
   "outputs": [
    {
     "data": {
      "application/vnd.jupyter.widget-view+json": {
       "model_id": "5d183b86800b43f0ad14c10d60781ac7",
       "version_major": 2,
       "version_minor": 0
      },
      "text/plain": [
       "Dropdown(options=('ALL', 'Customer', 'Subscriber'), value='ALL')"
      ]
     },
     "metadata": {},
     "output_type": "display_data"
    }
   ],
   "source": [
    "display(dropdown_usertype)"
   ]
  },
  {
   "cell_type": "code",
   "execution_count": 39,
   "metadata": {},
   "outputs": [],
   "source": [
    "dropdown_gender = widgets.Dropdown(options = unique_values_all(df.gender))"
   ]
  },
  {
   "cell_type": "code",
   "execution_count": 40,
   "metadata": {},
   "outputs": [
    {
     "data": {
      "application/vnd.jupyter.widget-view+json": {
       "model_id": "90d1850061d949a4ad676690697a6248",
       "version_major": 2,
       "version_minor": 0
      },
      "text/plain": [
       "Dropdown(options=('ALL', 'female', 'male', 'unknown'), value='ALL')"
      ]
     },
     "metadata": {},
     "output_type": "display_data"
    }
   ],
   "source": [
    "display(dropdown_gender)"
   ]
  },
  {
   "cell_type": "code",
   "execution_count": 41,
   "metadata": {},
   "outputs": [],
   "source": [
    "output = widgets.Output()"
   ]
  },
  {
   "cell_type": "code",
   "execution_count": 42,
   "metadata": {},
   "outputs": [
    {
     "data": {
      "application/vnd.jupyter.widget-view+json": {
       "model_id": "90d1850061d949a4ad676690697a6248",
       "version_major": 2,
       "version_minor": 0
      },
      "text/plain": [
       "Dropdown(options=('ALL', 'female', 'male', 'unknown'), value='ALL')"
      ]
     },
     "metadata": {},
     "output_type": "display_data"
    },
    {
     "data": {
      "application/vnd.jupyter.widget-view+json": {
       "model_id": "5d183b86800b43f0ad14c10d60781ac7",
       "version_major": 2,
       "version_minor": 0
      },
      "text/plain": [
       "Dropdown(options=('ALL', 'Customer', 'Subscriber'), value='ALL')"
      ]
     },
     "metadata": {},
     "output_type": "display_data"
    }
   ],
   "source": [
    "def df_filtering(gender, usertype):\n",
    "    output.clear_output()\n",
    "    \n",
    "    if (usertype == ALL) & (gender == ALL):\n",
    "        df_filtered = df\n",
    "    elif (gender == ALL):\n",
    "        df_filtered == df[df.usertype == usertype]\n",
    "    elif (usertype == ALL):\n",
    "        df_filtered == df[df.gender == gender]\n",
    "    else:\n",
    "        df.filtered = df[(df.usertype == usertype) & (df.gender == gender)]\n",
    "    \n",
    "    with output:\n",
    "        display(df.filtered)\n",
    "        \n",
    "\n",
    "def dropdown_gender_eventhandler(change):\n",
    "    df_filtering(change.new, dropdown_usertype.value)\n",
    "\n",
    "def dropdown_usertype_eventhandler(change):\n",
    "    df_filtering(dropdown_gender.value, change.new)\n",
    "    \n",
    "    \n",
    "dropdown_gender.observe(dropdown_gender_eventhandler, names = 'value')\n",
    "dropdown_usertype.observe(dropdown_usertype_eventhandler, names = 'value')\n",
    "\n",
    "display(dropdown_gender)\n",
    "display(dropdown_usertype)"
   ]
  },
  {
   "cell_type": "code",
   "execution_count": 43,
   "metadata": {},
   "outputs": [
    {
     "data": {
      "application/vnd.jupyter.widget-view+json": {
       "model_id": "3ce159e9aea7479f8a2466e006f3a3d8",
       "version_major": 2,
       "version_minor": 0
      },
      "text/plain": [
       "Output()"
      ]
     },
     "metadata": {},
     "output_type": "display_data"
    }
   ],
   "source": [
    "display(output)"
   ]
  },
  {
   "cell_type": "code",
   "execution_count": null,
   "metadata": {},
   "outputs": [],
   "source": []
  },
  {
   "cell_type": "code",
   "execution_count": null,
   "metadata": {},
   "outputs": [],
   "source": []
  }
 ],
 "metadata": {
  "kernelspec": {
   "display_name": "Python 3",
   "language": "python",
   "name": "python3"
  },
  "language_info": {
   "codemirror_mode": {
    "name": "ipython",
    "version": 3
   },
   "file_extension": ".py",
   "mimetype": "text/x-python",
   "name": "python",
   "nbconvert_exporter": "python",
   "pygments_lexer": "ipython3",
   "version": "3.7.3"
  }
 },
 "nbformat": 4,
 "nbformat_minor": 2
}
