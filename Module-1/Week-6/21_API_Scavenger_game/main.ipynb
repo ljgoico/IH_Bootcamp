{
 "cells": [
  {
   "cell_type": "code",
   "execution_count": 1,
   "metadata": {},
   "outputs": [],
   "source": [
    "import json\n",
    "import requests\n",
    "import numpy as np\n",
    "import pandas as pd"
   ]
  },
  {
   "cell_type": "code",
   "execution_count": 2,
   "metadata": {},
   "outputs": [
    {
     "name": "stdout",
     "output_type": "stream",
     "text": [
      "  % Total    % Received % Xferd  Average Speed   Time    Time     Time  Current\n",
      "                                 Dload  Upload   Total   Spent    Left  Speed\n",
      "100  1519  100  1519    0     0   1939      0 --:--:-- --:--:-- --:--:--  1937\n"
     ]
    }
   ],
   "source": [
    "!curl -u ljgoico:bdc7671833e4298cb49dd3e42433a1cac7cb10b7 https://api.github.com/user > output.json"
   ]
  },
  {
   "cell_type": "code",
   "execution_count": 3,
   "metadata": {},
   "outputs": [
    {
     "name": "stdout",
     "output_type": "stream",
     "text": [
      "  % Total    % Received % Xferd  Average Speed   Time    Time     Time  Current\n",
      "                                 Dload  Upload   Total   Spent    Left  Speed\n",
      "100  167k  100  167k    0     0   135k      0  0:00:01  0:00:01 --:--:--  135k    214      0  0:13:20  0:00:01  0:13:19   214\n"
     ]
    }
   ],
   "source": [
    "!curl -u ljgoico:bdc7671833e4298cb49dd3e42433a1cac7cb10b7 https://api.github.com/users/ta-datapt-bcn/repos > output.json\n",
    "        "
   ]
  },
  {
   "cell_type": "code",
   "execution_count": 4,
   "metadata": {},
   "outputs": [],
   "source": [
    "request = requests.get('https://api.github.com/users/ta-datapt-bcn/repos', auth=('ljgoico','bdc7671833e4298cb49dd3e42433a1cac7cb10b7'))"
   ]
  },
  {
   "cell_type": "code",
   "execution_count": 5,
   "metadata": {},
   "outputs": [],
   "source": [
    "repos = request.json()"
   ]
  },
  {
   "cell_type": "code",
   "execution_count": 6,
   "metadata": {},
   "outputs": [
    {
     "name": "stdout",
     "output_type": "stream",
     "text": [
      "['Jupyter Notebook' None 'HTML']\n"
     ]
    }
   ],
   "source": [
    "data = pd.DataFrame(repos)\n",
    "datalanguage = data['language'].unique()\n",
    "print(datalanguage)"
   ]
  },
  {
   "cell_type": "code",
   "execution_count": 7,
   "metadata": {},
   "outputs": [
    {
     "data": {
      "text/plain": [
       "Index(['archive_url', 'archived', 'assignees_url', 'blobs_url', 'branches_url',\n",
       "       'clone_url', 'collaborators_url', 'comments_url', 'commits_url',\n",
       "       'compare_url', 'contents_url', 'contributors_url', 'created_at',\n",
       "       'default_branch', 'deployments_url', 'description', 'disabled',\n",
       "       'downloads_url', 'events_url', 'fork', 'forks', 'forks_count',\n",
       "       'forks_url', 'full_name', 'git_commits_url', 'git_refs_url',\n",
       "       'git_tags_url', 'git_url', 'has_downloads', 'has_issues', 'has_pages',\n",
       "       'has_projects', 'has_wiki', 'homepage', 'hooks_url', 'html_url', 'id',\n",
       "       'issue_comment_url', 'issue_events_url', 'issues_url', 'keys_url',\n",
       "       'labels_url', 'language', 'languages_url', 'license', 'merges_url',\n",
       "       'milestones_url', 'mirror_url', 'name', 'node_id', 'notifications_url',\n",
       "       'open_issues', 'open_issues_count', 'owner', 'permissions', 'private',\n",
       "       'pulls_url', 'pushed_at', 'releases_url', 'size', 'ssh_url',\n",
       "       'stargazers_count', 'stargazers_url', 'statuses_url', 'subscribers_url',\n",
       "       'subscription_url', 'svn_url', 'tags_url', 'teams_url', 'trees_url',\n",
       "       'updated_at', 'url', 'watchers', 'watchers_count'],\n",
       "      dtype='object')"
      ]
     },
     "execution_count": 7,
     "metadata": {},
     "output_type": "execute_result"
    }
   ],
   "source": [
    "data.columns"
   ]
  },
  {
   "cell_type": "code",
   "execution_count": 8,
   "metadata": {},
   "outputs": [
    {
     "data": {
      "text/html": [
       "<div>\n",
       "<style scoped>\n",
       "    .dataframe tbody tr th:only-of-type {\n",
       "        vertical-align: middle;\n",
       "    }\n",
       "\n",
       "    .dataframe tbody tr th {\n",
       "        vertical-align: top;\n",
       "    }\n",
       "\n",
       "    .dataframe thead th {\n",
       "        text-align: right;\n",
       "    }\n",
       "</style>\n",
       "<table border=\"1\" class=\"dataframe\">\n",
       "  <thead>\n",
       "    <tr style=\"text-align: right;\">\n",
       "      <th></th>\n",
       "      <th>forks_url</th>\n",
       "      <th>language</th>\n",
       "    </tr>\n",
       "  </thead>\n",
       "  <tbody>\n",
       "    <tr>\n",
       "      <th>0</th>\n",
       "      <td>https://api.github.com/repos/ta-datapt-bcn/dat...</td>\n",
       "      <td>Jupyter Notebook</td>\n",
       "    </tr>\n",
       "    <tr>\n",
       "      <th>1</th>\n",
       "      <td>https://api.github.com/repos/ta-datapt-bcn/kat...</td>\n",
       "      <td>None</td>\n",
       "    </tr>\n",
       "    <tr>\n",
       "      <th>2</th>\n",
       "      <td>https://api.github.com/repos/ta-datapt-bcn/lab...</td>\n",
       "      <td>Jupyter Notebook</td>\n",
       "    </tr>\n",
       "    <tr>\n",
       "      <th>3</th>\n",
       "      <td>https://api.github.com/repos/ta-datapt-bcn/lab...</td>\n",
       "      <td>None</td>\n",
       "    </tr>\n",
       "    <tr>\n",
       "      <th>4</th>\n",
       "      <td>https://api.github.com/repos/ta-datapt-bcn/lab...</td>\n",
       "      <td>Jupyter Notebook</td>\n",
       "    </tr>\n",
       "    <tr>\n",
       "      <th>5</th>\n",
       "      <td>https://api.github.com/repos/ta-datapt-bcn/lab...</td>\n",
       "      <td>None</td>\n",
       "    </tr>\n",
       "    <tr>\n",
       "      <th>6</th>\n",
       "      <td>https://api.github.com/repos/ta-datapt-bcn/lab...</td>\n",
       "      <td>Jupyter Notebook</td>\n",
       "    </tr>\n",
       "    <tr>\n",
       "      <th>7</th>\n",
       "      <td>https://api.github.com/repos/ta-datapt-bcn/lab...</td>\n",
       "      <td>Jupyter Notebook</td>\n",
       "    </tr>\n",
       "    <tr>\n",
       "      <th>8</th>\n",
       "      <td>https://api.github.com/repos/ta-datapt-bcn/lab...</td>\n",
       "      <td>Jupyter Notebook</td>\n",
       "    </tr>\n",
       "    <tr>\n",
       "      <th>9</th>\n",
       "      <td>https://api.github.com/repos/ta-datapt-bcn/lab...</td>\n",
       "      <td>HTML</td>\n",
       "    </tr>\n",
       "    <tr>\n",
       "      <th>10</th>\n",
       "      <td>https://api.github.com/repos/ta-datapt-bcn/lab...</td>\n",
       "      <td>None</td>\n",
       "    </tr>\n",
       "    <tr>\n",
       "      <th>11</th>\n",
       "      <td>https://api.github.com/repos/ta-datapt-bcn/lab...</td>\n",
       "      <td>Jupyter Notebook</td>\n",
       "    </tr>\n",
       "    <tr>\n",
       "      <th>12</th>\n",
       "      <td>https://api.github.com/repos/ta-datapt-bcn/lab...</td>\n",
       "      <td>Jupyter Notebook</td>\n",
       "    </tr>\n",
       "    <tr>\n",
       "      <th>13</th>\n",
       "      <td>https://api.github.com/repos/ta-datapt-bcn/lab...</td>\n",
       "      <td>Jupyter Notebook</td>\n",
       "    </tr>\n",
       "    <tr>\n",
       "      <th>14</th>\n",
       "      <td>https://api.github.com/repos/ta-datapt-bcn/lab...</td>\n",
       "      <td>Jupyter Notebook</td>\n",
       "    </tr>\n",
       "    <tr>\n",
       "      <th>15</th>\n",
       "      <td>https://api.github.com/repos/ta-datapt-bcn/lab...</td>\n",
       "      <td>Jupyter Notebook</td>\n",
       "    </tr>\n",
       "    <tr>\n",
       "      <th>16</th>\n",
       "      <td>https://api.github.com/repos/ta-datapt-bcn/lab...</td>\n",
       "      <td>Jupyter Notebook</td>\n",
       "    </tr>\n",
       "    <tr>\n",
       "      <th>17</th>\n",
       "      <td>https://api.github.com/repos/ta-datapt-bcn/lab...</td>\n",
       "      <td>Jupyter Notebook</td>\n",
       "    </tr>\n",
       "    <tr>\n",
       "      <th>18</th>\n",
       "      <td>https://api.github.com/repos/ta-datapt-bcn/lab...</td>\n",
       "      <td>Jupyter Notebook</td>\n",
       "    </tr>\n",
       "    <tr>\n",
       "      <th>19</th>\n",
       "      <td>https://api.github.com/repos/ta-datapt-bcn/lab...</td>\n",
       "      <td>None</td>\n",
       "    </tr>\n",
       "    <tr>\n",
       "      <th>20</th>\n",
       "      <td>https://api.github.com/repos/ta-datapt-bcn/lab...</td>\n",
       "      <td>None</td>\n",
       "    </tr>\n",
       "    <tr>\n",
       "      <th>21</th>\n",
       "      <td>https://api.github.com/repos/ta-datapt-bcn/lab...</td>\n",
       "      <td>Jupyter Notebook</td>\n",
       "    </tr>\n",
       "    <tr>\n",
       "      <th>22</th>\n",
       "      <td>https://api.github.com/repos/ta-datapt-bcn/lab...</td>\n",
       "      <td>Jupyter Notebook</td>\n",
       "    </tr>\n",
       "    <tr>\n",
       "      <th>23</th>\n",
       "      <td>https://api.github.com/repos/ta-datapt-bcn/lab...</td>\n",
       "      <td>Jupyter Notebook</td>\n",
       "    </tr>\n",
       "    <tr>\n",
       "      <th>24</th>\n",
       "      <td>https://api.github.com/repos/ta-datapt-bcn/lab...</td>\n",
       "      <td>HTML</td>\n",
       "    </tr>\n",
       "    <tr>\n",
       "      <th>25</th>\n",
       "      <td>https://api.github.com/repos/ta-datapt-bcn/pro...</td>\n",
       "      <td>None</td>\n",
       "    </tr>\n",
       "    <tr>\n",
       "      <th>26</th>\n",
       "      <td>https://api.github.com/repos/ta-datapt-bcn/pro...</td>\n",
       "      <td>None</td>\n",
       "    </tr>\n",
       "    <tr>\n",
       "      <th>27</th>\n",
       "      <td>https://api.github.com/repos/ta-datapt-bcn/pyt...</td>\n",
       "      <td>Jupyter Notebook</td>\n",
       "    </tr>\n",
       "  </tbody>\n",
       "</table>\n",
       "</div>"
      ],
      "text/plain": [
       "                                            forks_url          language\n",
       "0   https://api.github.com/repos/ta-datapt-bcn/dat...  Jupyter Notebook\n",
       "1   https://api.github.com/repos/ta-datapt-bcn/kat...              None\n",
       "2   https://api.github.com/repos/ta-datapt-bcn/lab...  Jupyter Notebook\n",
       "3   https://api.github.com/repos/ta-datapt-bcn/lab...              None\n",
       "4   https://api.github.com/repos/ta-datapt-bcn/lab...  Jupyter Notebook\n",
       "5   https://api.github.com/repos/ta-datapt-bcn/lab...              None\n",
       "6   https://api.github.com/repos/ta-datapt-bcn/lab...  Jupyter Notebook\n",
       "7   https://api.github.com/repos/ta-datapt-bcn/lab...  Jupyter Notebook\n",
       "8   https://api.github.com/repos/ta-datapt-bcn/lab...  Jupyter Notebook\n",
       "9   https://api.github.com/repos/ta-datapt-bcn/lab...              HTML\n",
       "10  https://api.github.com/repos/ta-datapt-bcn/lab...              None\n",
       "11  https://api.github.com/repos/ta-datapt-bcn/lab...  Jupyter Notebook\n",
       "12  https://api.github.com/repos/ta-datapt-bcn/lab...  Jupyter Notebook\n",
       "13  https://api.github.com/repos/ta-datapt-bcn/lab...  Jupyter Notebook\n",
       "14  https://api.github.com/repos/ta-datapt-bcn/lab...  Jupyter Notebook\n",
       "15  https://api.github.com/repos/ta-datapt-bcn/lab...  Jupyter Notebook\n",
       "16  https://api.github.com/repos/ta-datapt-bcn/lab...  Jupyter Notebook\n",
       "17  https://api.github.com/repos/ta-datapt-bcn/lab...  Jupyter Notebook\n",
       "18  https://api.github.com/repos/ta-datapt-bcn/lab...  Jupyter Notebook\n",
       "19  https://api.github.com/repos/ta-datapt-bcn/lab...              None\n",
       "20  https://api.github.com/repos/ta-datapt-bcn/lab...              None\n",
       "21  https://api.github.com/repos/ta-datapt-bcn/lab...  Jupyter Notebook\n",
       "22  https://api.github.com/repos/ta-datapt-bcn/lab...  Jupyter Notebook\n",
       "23  https://api.github.com/repos/ta-datapt-bcn/lab...  Jupyter Notebook\n",
       "24  https://api.github.com/repos/ta-datapt-bcn/lab...              HTML\n",
       "25  https://api.github.com/repos/ta-datapt-bcn/pro...              None\n",
       "26  https://api.github.com/repos/ta-datapt-bcn/pro...              None\n",
       "27  https://api.github.com/repos/ta-datapt-bcn/pyt...  Jupyter Notebook"
      ]
     },
     "execution_count": 8,
     "metadata": {},
     "output_type": "execute_result"
    }
   ],
   "source": [
    "data[['forks_url', 'language']]"
   ]
  },
  {
   "cell_type": "code",
   "execution_count": 9,
   "metadata": {},
   "outputs": [
    {
     "data": {
      "text/plain": [
       "['https://api.github.com/repos/ta-datapt-bcn/data-prework-labs/commits',\n",
       " 'https://api.github.com/repos/ta-datapt-bcn/katas_challenge/commits',\n",
       " 'https://api.github.com/repos/ta-datapt-bcn/lab-advanced-regex/commits',\n",
       " 'https://api.github.com/repos/ta-datapt-bcn/lab-advanced-sql/commits',\n",
       " 'https://api.github.com/repos/ta-datapt-bcn/lab-advanced-web-scraping/commits',\n",
       " 'https://api.github.com/repos/ta-datapt-bcn/lab-API-scavenger/commits',\n",
       " 'https://api.github.com/repos/ta-datapt-bcn/lab-code-efficiency/commits',\n",
       " 'https://api.github.com/repos/ta-datapt-bcn/lab-data-cleaning/commits',\n",
       " 'https://api.github.com/repos/ta-datapt-bcn/lab-error-handling/commits',\n",
       " 'https://api.github.com/repos/ta-datapt-bcn/lab-functional-programming/commits',\n",
       " 'https://api.github.com/repos/ta-datapt-bcn/lab-git-basics-merge-conflicts/commits',\n",
       " 'https://api.github.com/repos/ta-datapt-bcn/lab-import-export/commits',\n",
       " 'https://api.github.com/repos/ta-datapt-bcn/lab-lambda-functions/commits',\n",
       " 'https://api.github.com/repos/ta-datapt-bcn/lab-list-comprehensions/commits',\n",
       " 'https://api.github.com/repos/ta-datapt-bcn/lab-numpy/commits',\n",
       " 'https://api.github.com/repos/ta-datapt-bcn/lab-object-oriented-programming/commits',\n",
       " 'https://api.github.com/repos/ta-datapt-bcn/lab-pandas/commits',\n",
       " 'https://api.github.com/repos/ta-datapt-bcn/lab-parsing-API-data/commits',\n",
       " 'https://api.github.com/repos/ta-datapt-bcn/lab-rss-feeds/commits',\n",
       " 'https://api.github.com/repos/ta-datapt-bcn/lab-sql/commits',\n",
       " 'https://api.github.com/repos/ta-datapt-bcn/lab-sql-select/commits',\n",
       " 'https://api.github.com/repos/ta-datapt-bcn/lab-string-operations/commits',\n",
       " 'https://api.github.com/repos/ta-datapt-bcn/lab-tuple-set-dict/commits',\n",
       " 'https://api.github.com/repos/ta-datapt-bcn/lab-web-scraping/commits',\n",
       " 'https://api.github.com/repos/ta-datapt-bcn/labs_with_solutions_students/commits',\n",
       " 'https://api.github.com/repos/ta-datapt-bcn/project-pandas/commits',\n",
       " 'https://api.github.com/repos/ta-datapt-bcn/project-web/commits',\n",
       " 'https://api.github.com/repos/ta-datapt-bcn/python-project/commits']"
      ]
     },
     "execution_count": 9,
     "metadata": {},
     "output_type": "execute_result"
    }
   ],
   "source": [
    "url_list = [i.replace('{/sha}','') for i in data['commits_url']]\n",
    "url_list"
   ]
  },
  {
   "cell_type": "code",
   "execution_count": 10,
   "metadata": {},
   "outputs": [],
   "source": [
    "motherfuckingcounter = 0"
   ]
  },
  {
   "cell_type": "code",
   "execution_count": 11,
   "metadata": {},
   "outputs": [],
   "source": [
    "for url in url_list:\n",
    "    repos = requests.get(url, auth=('ljgoico', 'bdc7671833e4298cb49dd3e42433a1cac7cb10b7'))\n",
    "    response = repos.json()\n",
    "    df = pd.DataFrame(response)\n",
    "    motherfuckingcounter += len(df)"
   ]
  },
  {
   "cell_type": "code",
   "execution_count": 12,
   "metadata": {},
   "outputs": [
    {
     "data": {
      "text/plain": [
       "90"
      ]
     },
     "execution_count": 12,
     "metadata": {},
     "output_type": "execute_result"
    }
   ],
   "source": [
    "motherfuckingcounter"
   ]
  },
  {
   "cell_type": "code",
   "execution_count": 14,
   "metadata": {},
   "outputs": [
    {
     "ename": "AttributeError",
     "evalue": "'DataFrame' object has no attribute 'commits'",
     "output_type": "error",
     "traceback": [
      "\u001b[0;31m---------------------------------------------------------------------------\u001b[0m",
      "\u001b[0;31mAttributeError\u001b[0m                            Traceback (most recent call last)",
      "\u001b[0;32m<ipython-input-14-54ee4fb96f2d>\u001b[0m in \u001b[0;36m<module>\u001b[0;34m\u001b[0m\n\u001b[0;32m----> 1\u001b[0;31m \u001b[0mdf\u001b[0m\u001b[0;34m.\u001b[0m\u001b[0mcommits\u001b[0m\u001b[0;34m.\u001b[0m\u001b[0mshape\u001b[0m\u001b[0;34m\u001b[0m\u001b[0;34m\u001b[0m\u001b[0m\n\u001b[0m",
      "\u001b[0;32m/anaconda3/lib/python3.7/site-packages/pandas/core/generic.py\u001b[0m in \u001b[0;36m__getattr__\u001b[0;34m(self, name)\u001b[0m\n\u001b[1;32m   5065\u001b[0m             \u001b[0;32mif\u001b[0m \u001b[0mself\u001b[0m\u001b[0;34m.\u001b[0m\u001b[0m_info_axis\u001b[0m\u001b[0;34m.\u001b[0m\u001b[0m_can_hold_identifiers_and_holds_name\u001b[0m\u001b[0;34m(\u001b[0m\u001b[0mname\u001b[0m\u001b[0;34m)\u001b[0m\u001b[0;34m:\u001b[0m\u001b[0;34m\u001b[0m\u001b[0;34m\u001b[0m\u001b[0m\n\u001b[1;32m   5066\u001b[0m                 \u001b[0;32mreturn\u001b[0m \u001b[0mself\u001b[0m\u001b[0;34m[\u001b[0m\u001b[0mname\u001b[0m\u001b[0;34m]\u001b[0m\u001b[0;34m\u001b[0m\u001b[0;34m\u001b[0m\u001b[0m\n\u001b[0;32m-> 5067\u001b[0;31m             \u001b[0;32mreturn\u001b[0m \u001b[0mobject\u001b[0m\u001b[0;34m.\u001b[0m\u001b[0m__getattribute__\u001b[0m\u001b[0;34m(\u001b[0m\u001b[0mself\u001b[0m\u001b[0;34m,\u001b[0m \u001b[0mname\u001b[0m\u001b[0;34m)\u001b[0m\u001b[0;34m\u001b[0m\u001b[0;34m\u001b[0m\u001b[0m\n\u001b[0m\u001b[1;32m   5068\u001b[0m \u001b[0;34m\u001b[0m\u001b[0m\n\u001b[1;32m   5069\u001b[0m     \u001b[0;32mdef\u001b[0m \u001b[0m__setattr__\u001b[0m\u001b[0;34m(\u001b[0m\u001b[0mself\u001b[0m\u001b[0;34m,\u001b[0m \u001b[0mname\u001b[0m\u001b[0;34m,\u001b[0m \u001b[0mvalue\u001b[0m\u001b[0;34m)\u001b[0m\u001b[0;34m:\u001b[0m\u001b[0;34m\u001b[0m\u001b[0;34m\u001b[0m\u001b[0m\n",
      "\u001b[0;31mAttributeError\u001b[0m: 'DataFrame' object has no attribute 'commits'"
     ]
    }
   ],
   "source": [
    "df.commits.shape"
   ]
  },
  {
   "cell_type": "code",
   "execution_count": null,
   "metadata": {},
   "outputs": [],
   "source": [
    "for url in url_list:\n",
    "    repos = requests.get(url, auth=('ljgoico','bdc7671833e4298cb49dd3e42433a1cac7cb10b7')\n",
    "    data = pd.DataFrame(repos)"
   ]
  },
  {
   "cell_type": "code",
   "execution_count": null,
   "metadata": {},
   "outputs": [],
   "source": [
    "repos = requests.get('https://api.github.com/users/ta-datapt-bcn/repos', auth=('ljgoico','bdc7671833e4298cb49dd3e42433a1cac7cb10b7'))\n",
    "data_prework_labs = requests.get('https://api.github.com/users/ta-datapt-bcn/repos/data-prework-labs', auth=('ljgoico','bdc7671833e4298cb49dd3e42433a1cac7cb10b7'))\n",
    "lab_git_basics_merge_conflicts = requests.get('https://api.github.com/users/ta-datapt-bcn/repos/lab-git-basics-merge-conflicts', auth=('ljgoico','bdc7671833e4298cb49dd3e42433a1cac7cb10b7'))\n",
    "lab_list_comprehensions = requests.get('https://api.github.com/users/ta-datapt-bcn/repos/lab-list-comprehensions', auth=('ljgoico','bdc7671833e4298cb49dd3e42433a1cac7cb10b7'))\n",
    "lab_tuple_set_dict = requests.get('https://api.github.com/users/ta-datapt-bcn/repos/lab-tuple-set-dict', auth=('ljgoico','bdc7671833e4298cb49dd3e42433a1cac7cb10b7'))\n",
    "lab_string_operations = requests.get('https://api.github.com/users/ta-datapt-bcn/repos/lab-string-operations', auth=('ljgoico','bdc7671833e4298cb49dd3e42433a1cac7cb10b7'))\n",
    "lab_advanced_regex = requests.get('https://api.github.com/users/ta-datapt-bcn/repos/lab-advanced-regex', auth=('ljgoico','bdc7671833e4298cb49dd3e42433a1cac7cb10b7'))\n",
    "lab_functional_programming = requests.get('https://api.github.com/users/ta-datapt-bcn/repos/lab-functional-programming', auth=('ljgoico','bdc7671833e4298cb49dd3e42433a1cac7cb10b7'))\n",
    "lab_error_handling = requests.get('https://api.github.com/users/ta-datapt-bcn/repos/lab-error-handling', auth=('ljgoico','bdc7671833e4298cb49dd3e42433a1cac7cb10b7'))\n",
    "object_oriented_programming = requests.get('https://api.github.com/users/ta-datapt-bcn/repos/lab-object-oriented-programming', auth=('ljgoico','bdc7671833e4298cb49dd3e42433a1cac7cb10b7'))\n",
    "sql = requests.get('https://api.github.com/users/ta-datapt-bcn/repos/lab-sql', auth=('ljgoico','bdc7671833e4298cb49dd3e42433a1cac7cb10b7'))\n",
    "lambda_functions = requests.get('https://api.github.com/users/ta-datapt-bcn/repos/lab-lambda-functions', auth=('ljgoico','bdc7671833e4298cb49dd3e42433a1cac7cb10b7'))\n",
    "sql_select = requests.get('https://api.github.com/users/ta-datapt-bcn/repos/lab-sql-select', auth=('ljgoico','bdc7671833e4298cb49dd3e42433a1cac7cb10b7'))\n",
    "advanced_sql = requests.get('https://api.github.com/users/ta-datapt-bcn/repos/lab-advanced-sql', auth=('ljgoico','bdc7671833e4298cb49dd3e42433a1cac7cb10b7'))\n",
    "numpy = requests.get('https://api.github.com/users/ta-datapt-bcn/repos/lab-numpy', auth=('ljgoico','bdc7671833e4298cb49dd3e42433a1cac7cb10b7'))\n",
    "pandas = requests.get('https://api.github.com/users/ta-datapt-bcn/repos/lab-pandas', auth=('ljgoico','bdc7671833e4298cb49dd3e42433a1cac7cb10b7'))\n",
    "solutions = requests.get('https://api.github.com/users/ta-datapt-bcn/repos/lab_with_solutions_students', auth=('ljgoico','bdc7671833e4298cb49dd3e42433a1cac7cb10b7'))\n",
    "python_project = requests.get('https://api.github.com/users/ta-datapt-bcn/repos/python-project', auth=('ljgoico','bdc7671833e4298cb49dd3e42433a1cac7cb10b7'))\n",
    "import_export = requests.get('https://api.github.com/users/ta-datapt-bcn/repos/lab-import-export', auth=('ljgoico','bdc7671833e4298cb49dd3e42433a1cac7cb10b7'))\n",
    "scraping = requests.get('https://api.github.com/users/ta-datapt-bcn/repos/lab-web-scraping', auth=('ljgoico','bdc7671833e4298cb49dd3e42433a1cac7cb10b7'))\n",
    "cleaning = requests.get('https://api.github.com/users/ta-datapt-bcn/repos/lab-data-cleaning', auth=('ljgoico','bdc7671833e4298cb49dd3e42433a1cac7cb10b7'))\n",
    "advanced_scraping = requests.get('https://api.github.com/users/ta-datapt-bcn/repos/lab-advanced-web-scraping', auth=('ljgoico','bdc7671833e4298cb49dd3e42433a1cac7cb10b7'))\n",
    "parsing_API_data = requests.get('https://api.github.com/users/ta-datapt-bcn/repos/lab-parsing-API-data', auth=('ljgoico','bdc7671833e4298cb49dd3e42433a1cac7cb10b7'))\n",
    "project_pandas = requests.get('https://api.github.com/users/ta-datapt-bcn/repos/project-pandas', auth=('ljgoico','bdc7671833e4298cb49dd3e42433a1cac7cb10b7'))\n",
    "katas = requests.get('https://api.github.com/users/ta-datapt-bcn/repos/katas_challenge', auth=('ljgoico','bdc7671833e4298cb49dd3e42433a1cac7cb10b7'))"
   ]
  },
  {
   "cell_type": "code",
   "execution_count": null,
   "metadata": {},
   "outputs": [],
   "source": [
    "response = requests.get('https://api.github.com/users/ta-datapt-bcn/katas_challenge')\n",
    "results = response.json()\n",
    "\n",
    "\n",
    "results"
   ]
  },
  {
   "cell_type": "code",
   "execution_count": null,
   "metadata": {},
   "outputs": [],
   "source": [
    "!curl ljgoico:bdc7671833e4298cb49dd3e42433a1cac7cb10b7 https://api.github.com/users/ta-datapt-bcn/katas_challenge > output.json"
   ]
  },
  {
   "cell_type": "code",
   "execution_count": null,
   "metadata": {},
   "outputs": [],
   "source": []
  }
 ],
 "metadata": {
  "kernelspec": {
   "display_name": "Python 3",
   "language": "python",
   "name": "python3"
  },
  "language_info": {
   "codemirror_mode": {
    "name": "ipython",
    "version": 3
   },
   "file_extension": ".py",
   "mimetype": "text/x-python",
   "name": "python",
   "nbconvert_exporter": "python",
   "pygments_lexer": "ipython3",
   "version": "3.7.3"
  }
 },
 "nbformat": 4,
 "nbformat_minor": 2
}
