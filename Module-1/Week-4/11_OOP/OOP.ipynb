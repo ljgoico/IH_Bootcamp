{
 "cells": [
  {
   "cell_type": "code",
   "execution_count": 2,
   "metadata": {},
   "outputs": [],
   "source": [
    "#parent class\n",
    "class Bird:\n",
    "    def __init__(self):\n",
    "        print(\"Bird is ready\")\n",
    "        \n",
    "    def whoisThis(self):\n",
    "        print(\"Bird\")\n",
    "        \n",
    "    def swim(self):\n",
    "        print(\"Swim faster\")\n",
    "        \n",
    "\n",
    "#child class\n",
    "class Penguin(Bird):\n",
    "    def __init__(self):\n",
    "        #call super function\n",
    "        super().__init__()\n",
    "        print(\"Penguin is ready\")\n",
    "    \n",
    "    def whoisThis(self):\n",
    "        print(\"Penguin\")\n",
    "        \n",
    "    def run(self):\n",
    "        print(\"Run faster\")\n",
    "    "
   ]
  },
  {
   "cell_type": "code",
   "execution_count": 3,
   "metadata": {},
   "outputs": [
    {
     "name": "stdout",
     "output_type": "stream",
     "text": [
      "Bird is ready\n",
      "Penguin is ready\n",
      "<__main__.Penguin object at 0x109148208>\n"
     ]
    }
   ],
   "source": [
    "peggy = Penguin()\n",
    "print(peggy)"
   ]
  },
  {
   "cell_type": "code",
   "execution_count": 4,
   "metadata": {},
   "outputs": [
    {
     "name": "stdout",
     "output_type": "stream",
     "text": [
      "Penguin\n"
     ]
    }
   ],
   "source": [
    "peggy.whoisThis()"
   ]
  },
  {
   "cell_type": "code",
   "execution_count": 5,
   "metadata": {},
   "outputs": [
    {
     "name": "stdout",
     "output_type": "stream",
     "text": [
      "Swim faster\n"
     ]
    }
   ],
   "source": [
    "peggy.swim()"
   ]
  },
  {
   "cell_type": "code",
   "execution_count": 6,
   "metadata": {},
   "outputs": [
    {
     "name": "stdout",
     "output_type": "stream",
     "text": [
      "Run faster\n"
     ]
    }
   ],
   "source": [
    "peggy.run()"
   ]
  },
  {
   "cell_type": "markdown",
   "metadata": {},
   "source": [
    "La clase se llama \"Car\" y tiene como propiedades year, brand, max_speed, speed. Crear métodos : accelerate y brake"
   ]
  },
  {
   "cell_type": "code",
   "execution_count": 7,
   "metadata": {},
   "outputs": [],
   "source": [
    "#tener en cuenta la velocidad máxima\n",
    "\n",
    "class Car:\n",
    "    def __init__(self, brand,year, max_speed, speed):\n",
    "        self.brand = brand\n",
    "        self.year = year\n",
    "        self.max_speed = max_speed\n",
    "        self.speed = speed\n",
    "        \n",
    "    def accelerate(self, acceleration):\n",
    "        self.speed = self.speed + acceleration\n",
    "        if self.speed >= self.max_speed:\n",
    "            self.speed = 220\n",
    "        return \"Current speed is {} km per hour\".format(self.speed)\n",
    "    \n",
    "    def brakes(self, brakes):\n",
    "        self.speed = self.speed - brakes\n",
    "        if self.speed <= 0:\n",
    "            self.speed == 0\n",
    "        return \"Current speed is {} km per hour\".format(self.speed)\n",
    "        \n",
    "BMW = Car(\"BMW\", 2016, 220, 180)\n",
    "Maserati = Car(\"Maserati\", 2015, 320, 200)"
   ]
  },
  {
   "cell_type": "code",
   "execution_count": 65,
   "metadata": {},
   "outputs": [
    {
     "data": {
      "text/plain": [
       "'Current speed is 220 km per hour'"
      ]
     },
     "execution_count": 65,
     "metadata": {},
     "output_type": "execute_result"
    }
   ],
   "source": [
    "BMW.accelerate(300)"
   ]
  },
  {
   "cell_type": "code",
   "execution_count": 66,
   "metadata": {},
   "outputs": [
    {
     "data": {
      "text/plain": [
       "'Current speed is 0 km per hour'"
      ]
     },
     "execution_count": 66,
     "metadata": {},
     "output_type": "execute_result"
    }
   ],
   "source": [
    "Maserati.brakes(200)"
   ]
  }
 ],
 "metadata": {
  "kernelspec": {
   "display_name": "Python 3",
   "language": "python",
   "name": "python3"
  },
  "language_info": {
   "codemirror_mode": {
    "name": "ipython",
    "version": 3
   },
   "file_extension": ".py",
   "mimetype": "text/x-python",
   "name": "python",
   "nbconvert_exporter": "python",
   "pygments_lexer": "ipython3",
   "version": "3.7.3"
  }
 },
 "nbformat": 4,
 "nbformat_minor": 2
}
