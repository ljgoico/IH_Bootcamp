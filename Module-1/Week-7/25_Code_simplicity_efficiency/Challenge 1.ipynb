{
 "cells": [
  {
   "cell_type": "markdown",
   "metadata": {},
   "source": [
    "# Challenge 1\n",
    "\n",
    "This is a dumb calculator that can add and subtract whole numbers from zero to five.\n",
    "When you run the code, you are prompted to enter two numbers (in the form of English\n",
    "word instead of number) and the operator sign (also in the form of English word).\n",
    "The code will perform the calculation and give the result if your input is what it\n",
    "expects.\n",
    "\n",
    "The code is very long and messy. Refactor it according to what you have learned about\n",
    "code simplicity and efficiency."
   ]
  },
  {
   "cell_type": "code",
   "execution_count": 11,
   "metadata": {},
   "outputs": [
    {
     "name": "stdout",
     "output_type": "stream",
     "text": [
      "Welcome to this calculator!\n",
      "Please choose your first number (zero to five): 2\n",
      "Please choose what the operator (plus or minus): minus\n",
      "Please choose your second number (zero to five): 2\n",
      "0\n",
      "Thanks for using this calculator, goodbye :)\n"
     ]
    }
   ],
   "source": [
    "print('Welcome to this calculator!')\n",
    "a = int(input('Please choose your first number (zero to five): '))\n",
    "b = input('Please choose what the operator (plus or minus): ')\n",
    "c = int(input('Please choose your second number (zero to five): '))\n",
    "numbers = [1,2,3,4,5]\n",
    "\n",
    "if a in numbers and b == 'plus'  and c in numbers:\n",
    "    print(a + c)\n",
    "elif a in numbers and b == 'minus'  and c in numbers:\n",
    "    print(a - c)\n",
    "\n",
    "else:\n",
    "    print(\"I am not able to answer this question. Check your input.\")\n",
    "\n",
    "print(\"Thanks for using this calculator, goodbye :)\")"
   ]
  },
  {
   "cell_type": "code",
   "execution_count": null,
   "metadata": {},
   "outputs": [],
   "source": []
  }
 ],
 "metadata": {
  "kernelspec": {
   "display_name": "Python 3",
   "language": "python",
   "name": "python3"
  },
  "language_info": {
   "codemirror_mode": {
    "name": "ipython",
    "version": 3
   },
   "file_extension": ".py",
   "mimetype": "text/x-python",
   "name": "python",
   "nbconvert_exporter": "python",
   "pygments_lexer": "ipython3",
   "version": "3.7.3"
  }
 },
 "nbformat": 4,
 "nbformat_minor": 2
}
