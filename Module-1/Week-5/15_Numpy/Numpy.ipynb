{
 "cells": [
  {
   "cell_type": "markdown",
   "metadata": {},
   "source": [
    "### NUMPY"
   ]
  },
  {
   "cell_type": "markdown",
   "metadata": {},
   "source": [
    "#### Un array es una lista de listas."
   ]
  },
  {
   "cell_type": "code",
   "execution_count": 1,
   "metadata": {},
   "outputs": [],
   "source": [
    "import numpy as np"
   ]
  },
  {
   "cell_type": "code",
   "execution_count": 2,
   "metadata": {},
   "outputs": [
    {
     "name": "stdout",
     "output_type": "stream",
     "text": [
      "[[0.55903238 0.44005495 0.64622466 0.33556072]\n",
      " [0.92668281 0.38309836 0.89968563 0.78781461]\n",
      " [0.86255717 0.99951959 0.18851202 0.50664423]\n",
      " [0.78436947 0.84122982 0.18650833 0.7935121 ]\n",
      " [0.65441089 0.77557341 0.77911722 0.51566277]\n",
      " [0.4628121  0.34730139 0.20339765 0.37120356]\n",
      " [0.94443712 0.52390857 0.88405325 0.86698788]\n",
      " [0.66922468 0.68627727 0.15663    0.70034775]\n",
      " [0.89452827 0.49829612 0.56598308 0.49894366]\n",
      " [0.32152873 0.58211177 0.42358484 0.62505722]]\n"
     ]
    }
   ],
   "source": [
    "#puedes hacer un array con términos random\n",
    "\n",
    "a = np.random.random((10,4))\n",
    "print(a)"
   ]
  },
  {
   "cell_type": "code",
   "execution_count": 3,
   "metadata": {},
   "outputs": [
    {
     "name": "stdout",
     "output_type": "stream",
     "text": [
      "(10, 4)\n"
     ]
    }
   ],
   "source": [
    "#shape te indica número de filas y columnas o dimensiones de una matriz\n",
    "print(a.shape)"
   ]
  },
  {
   "cell_type": "code",
   "execution_count": 4,
   "metadata": {},
   "outputs": [
    {
     "name": "stdout",
     "output_type": "stream",
     "text": [
      "40\n"
     ]
    }
   ],
   "source": [
    "#shape te da el número de elementos de la array\n",
    "print(a.size)"
   ]
  },
  {
   "cell_type": "code",
   "execution_count": 6,
   "metadata": {},
   "outputs": [
    {
     "name": "stdout",
     "output_type": "stream",
     "text": [
      "[[[[0.59659429 0.19437503 0.01045141 0.67173172 0.28426499]\n",
      "   [0.84899785 0.3988092  0.66117957 0.31891461 0.44075306]\n",
      "   [0.44651241 0.23291283 0.73703552 0.30280668 0.94021493]\n",
      "   [0.76488975 0.18170574 0.42506337 0.61746555 0.0343718 ]]\n",
      "\n",
      "  [[0.11463796 0.70643529 0.06298917 0.23427709 0.63405063]\n",
      "   [0.33897572 0.5184202  0.23225317 0.74629892 0.39682031]\n",
      "   [0.58069289 0.13569149 0.05968902 0.22064856 0.44856716]\n",
      "   [0.30457476 0.89887943 0.72571557 0.98714977 0.56495688]]\n",
      "\n",
      "  [[0.51575919 0.14163142 0.71997029 0.36260298 0.62757395]\n",
      "   [0.80809895 0.36986743 0.86908112 0.41365164 0.37894753]\n",
      "   [0.96258956 0.76007162 0.79255982 0.90633883 0.74724954]\n",
      "   [0.26565125 0.72071467 0.27437234 0.36067161 0.14320611]]]\n",
      "\n",
      "\n",
      " [[[0.69132052 0.01347766 0.08787916 0.07538714 0.13473036]\n",
      "   [0.14606188 0.01707382 0.34174667 0.66966187 0.79048198]\n",
      "   [0.26771485 0.91725498 0.77606149 0.38493565 0.57814368]\n",
      "   [0.88046198 0.54739545 0.26561461 0.83373182 0.60852199]]\n",
      "\n",
      "  [[0.04601678 0.41229712 0.53733066 0.81985039 0.88357897]\n",
      "   [0.82534891 0.81616593 0.35919155 0.57377467 0.94522337]\n",
      "   [0.05768002 0.40739508 0.73100325 0.39261613 0.52079749]\n",
      "   [0.47144105 0.89385268 0.52732373 0.59471776 0.5650544 ]]\n",
      "\n",
      "  [[0.48817235 0.16923104 0.60521604 0.40077001 0.36484743]\n",
      "   [0.73677605 0.89729494 0.42748819 0.59984396 0.65166452]\n",
      "   [0.81586125 0.0485763  0.7179482  0.71532089 0.8329682 ]\n",
      "   [0.61981874 0.88153705 0.60703817 0.61231327 0.96949776]]]]\n"
     ]
    }
   ],
   "source": [
    "#crea un array con 2 grupos de 3 matrices 4x5\n",
    "c = np.random.random((2,3,4,5))\n",
    "print(c)"
   ]
  },
  {
   "cell_type": "code",
   "execution_count": 7,
   "metadata": {},
   "outputs": [
    {
     "name": "stdout",
     "output_type": "stream",
     "text": [
      "[[[0.59659429 0.19437503 0.01045141 0.67173172 0.28426499]\n",
      "  [0.84899785 0.3988092  0.66117957 0.31891461 0.44075306]\n",
      "  [0.44651241 0.23291283 0.73703552 0.30280668 0.94021493]\n",
      "  [0.76488975 0.18170574 0.42506337 0.61746555 0.0343718 ]]\n",
      "\n",
      " [[0.11463796 0.70643529 0.06298917 0.23427709 0.63405063]\n",
      "  [0.33897572 0.5184202  0.23225317 0.74629892 0.39682031]\n",
      "  [0.58069289 0.13569149 0.05968902 0.22064856 0.44856716]\n",
      "  [0.30457476 0.89887943 0.72571557 0.98714977 0.56495688]]\n",
      "\n",
      " [[0.51575919 0.14163142 0.71997029 0.36260298 0.62757395]\n",
      "  [0.80809895 0.36986743 0.86908112 0.41365164 0.37894753]\n",
      "  [0.96258956 0.76007162 0.79255982 0.90633883 0.74724954]\n",
      "  [0.26565125 0.72071467 0.27437234 0.36067161 0.14320611]]]\n"
     ]
    }
   ],
   "source": [
    "#primer grupo del array C\n",
    "print(c[0])"
   ]
  },
  {
   "cell_type": "code",
   "execution_count": 9,
   "metadata": {},
   "outputs": [
    {
     "name": "stdout",
     "output_type": "stream",
     "text": [
      "[[0.11463796 0.70643529 0.06298917 0.23427709 0.63405063]\n",
      " [0.33897572 0.5184202  0.23225317 0.74629892 0.39682031]\n",
      " [0.58069289 0.13569149 0.05968902 0.22064856 0.44856716]\n",
      " [0.30457476 0.89887943 0.72571557 0.98714977 0.56495688]]\n"
     ]
    }
   ],
   "source": [
    "#segundo subgrupo del primer grupo\n",
    "print(c[0,1])"
   ]
  },
  {
   "cell_type": "code",
   "execution_count": 10,
   "metadata": {},
   "outputs": [
    {
     "name": "stdout",
     "output_type": "stream",
     "text": [
      "[0.23427709 0.74629892 0.22064856 0.98714977]\n"
     ]
    }
   ],
   "source": [
    "#cuarta columna del segundo subgrupo\n",
    "print(c[0,1,:,3])"
   ]
  },
  {
   "cell_type": "code",
   "execution_count": 11,
   "metadata": {},
   "outputs": [
    {
     "name": "stdout",
     "output_type": "stream",
     "text": [
      "0.2206485625227973\n"
     ]
    }
   ],
   "source": [
    "#valor de la tercera fila y la cuarta columna del segundo subgrupo\n",
    "print(c[0,1,2,3])"
   ]
  },
  {
   "cell_type": "markdown",
   "metadata": {},
   "source": [
    "### Convert data structures to arrays"
   ]
  },
  {
   "cell_type": "code",
   "execution_count": null,
   "metadata": {},
   "outputs": [],
   "source": [
    "### why? it makes it easier to operate with numpy"
   ]
  },
  {
   "cell_type": "code",
   "execution_count": 14,
   "metadata": {},
   "outputs": [
    {
     "name": "stdout",
     "output_type": "stream",
     "text": [
      "[[1 2 3]\n",
      " [4 5 6]\n",
      " [7 8 9]]\n"
     ]
    }
   ],
   "source": [
    "lst_lst = [[1,2,3],[4,5,6],[7,8,9]]\n",
    "d = np.array(lst_lst)\n",
    "print(d)"
   ]
  },
  {
   "cell_type": "code",
   "execution_count": null,
   "metadata": {},
   "outputs": [],
   "source": [
    "# axis = 0 son columnas\n",
    "# axis = 1 son filas"
   ]
  },
  {
   "cell_type": "code",
   "execution_count": 15,
   "metadata": {},
   "outputs": [
    {
     "name": "stdout",
     "output_type": "stream",
     "text": [
      "24.09238605316083\n"
     ]
    }
   ],
   "source": [
    "print(np.sum(a))"
   ]
  },
  {
   "cell_type": "code",
   "execution_count": 17,
   "metadata": {},
   "outputs": [
    {
     "name": "stdout",
     "output_type": "stream",
     "text": [
      "[1.98087272 2.99728142 2.557233   2.60561972 2.7247643  1.38471469\n",
      " 3.21938681 2.2124797  2.45775112 1.95228256]\n"
     ]
    }
   ],
   "source": [
    "print(np.sum(a, axis=1))"
   ]
  },
  {
   "cell_type": "markdown",
   "metadata": {},
   "source": [
    "## Práctica en clase"
   ]
  },
  {
   "cell_type": "code",
   "execution_count": 20,
   "metadata": {},
   "outputs": [],
   "source": [
    "numbers = [1,2,3,4,5]"
   ]
  },
  {
   "cell_type": "code",
   "execution_count": 26,
   "metadata": {},
   "outputs": [],
   "source": [
    "strings = [\"uno\", \"dos\", \"tres\"]"
   ]
  },
  {
   "cell_type": "code",
   "execution_count": 48,
   "metadata": {},
   "outputs": [],
   "source": [
    "def suma(lst):\n",
    "    suma = 0\n",
    "    for i in lst:\n",
    "        if type(i) == int:\n",
    "            suma += i\n",
    "        else:\n",
    "            print(\"Error\")"
   ]
  },
  {
   "cell_type": "code",
   "execution_count": 31,
   "metadata": {},
   "outputs": [
    {
     "data": {
      "text/plain": [
       "15"
      ]
     },
     "execution_count": 31,
     "metadata": {},
     "output_type": "execute_result"
    }
   ],
   "source": [
    "suma(numbers)"
   ]
  },
  {
   "cell_type": "code",
   "execution_count": 32,
   "metadata": {},
   "outputs": [
    {
     "ename": "TypeError",
     "evalue": "unsupported operand type(s) for +=: 'int' and 'str'",
     "output_type": "error",
     "traceback": [
      "\u001b[0;31m---------------------------------------------------------------------------\u001b[0m",
      "\u001b[0;31mTypeError\u001b[0m                                 Traceback (most recent call last)",
      "\u001b[0;32m<ipython-input-32-244306c8ee66>\u001b[0m in \u001b[0;36m<module>\u001b[0;34m\u001b[0m\n\u001b[0;32m----> 1\u001b[0;31m \u001b[0msuma\u001b[0m\u001b[0;34m(\u001b[0m\u001b[0mstrings\u001b[0m\u001b[0;34m)\u001b[0m\u001b[0;34m\u001b[0m\u001b[0;34m\u001b[0m\u001b[0m\n\u001b[0m",
      "\u001b[0;32m<ipython-input-30-83f7121a9f35>\u001b[0m in \u001b[0;36msuma\u001b[0;34m(lst)\u001b[0m\n\u001b[1;32m      2\u001b[0m     \u001b[0msuma\u001b[0m \u001b[0;34m=\u001b[0m \u001b[0;36m0\u001b[0m\u001b[0;34m\u001b[0m\u001b[0;34m\u001b[0m\u001b[0m\n\u001b[1;32m      3\u001b[0m     \u001b[0;32mfor\u001b[0m \u001b[0mi\u001b[0m \u001b[0;32min\u001b[0m \u001b[0mlst\u001b[0m\u001b[0;34m:\u001b[0m\u001b[0;34m\u001b[0m\u001b[0;34m\u001b[0m\u001b[0m\n\u001b[0;32m----> 4\u001b[0;31m         \u001b[0msuma\u001b[0m \u001b[0;34m+=\u001b[0m \u001b[0mi\u001b[0m\u001b[0;34m\u001b[0m\u001b[0;34m\u001b[0m\u001b[0m\n\u001b[0m\u001b[1;32m      5\u001b[0m     \u001b[0;32mreturn\u001b[0m \u001b[0msuma\u001b[0m\u001b[0;34m\u001b[0m\u001b[0;34m\u001b[0m\u001b[0m\n",
      "\u001b[0;31mTypeError\u001b[0m: unsupported operand type(s) for +=: 'int' and 'str'"
     ]
    }
   ],
   "source": [
    "suma(strings)"
   ]
  },
  {
   "cell_type": "code",
   "execution_count": 34,
   "metadata": {},
   "outputs": [],
   "source": [
    "a = np.array(numbers)"
   ]
  },
  {
   "cell_type": "code",
   "execution_count": 35,
   "metadata": {},
   "outputs": [
    {
     "data": {
      "text/plain": [
       "1"
      ]
     },
     "execution_count": 35,
     "metadata": {},
     "output_type": "execute_result"
    }
   ],
   "source": [
    "a[0]"
   ]
  },
  {
   "cell_type": "code",
   "execution_count": 36,
   "metadata": {},
   "outputs": [],
   "source": [
    "#cambiar el valor de uno a dos\n",
    "a[0] = 2"
   ]
  },
  {
   "cell_type": "code",
   "execution_count": 41,
   "metadata": {},
   "outputs": [
    {
     "data": {
      "text/plain": [
       "(5,)"
      ]
     },
     "execution_count": 41,
     "metadata": {},
     "output_type": "execute_result"
    }
   ],
   "source": [
    "#el resultado indica que hay 5 de una sola dimensión\n",
    "np.shape(a)"
   ]
  },
  {
   "cell_type": "code",
   "execution_count": 43,
   "metadata": {},
   "outputs": [
    {
     "data": {
      "text/plain": [
       "(5,)"
      ]
     },
     "execution_count": 43,
     "metadata": {},
     "output_type": "execute_result"
    }
   ],
   "source": [
    "a.shape"
   ]
  },
  {
   "cell_type": "code",
   "execution_count": 39,
   "metadata": {},
   "outputs": [
    {
     "data": {
      "text/plain": [
       "16"
      ]
     },
     "execution_count": 39,
     "metadata": {},
     "output_type": "execute_result"
    }
   ],
   "source": [
    "#suma\n",
    "np.sum(a)"
   ]
  },
  {
   "cell_type": "code",
   "execution_count": 40,
   "metadata": {},
   "outputs": [
    {
     "data": {
      "text/plain": [
       "16"
      ]
     },
     "execution_count": 40,
     "metadata": {},
     "output_type": "execute_result"
    }
   ],
   "source": [
    "#también se puede hacer:\n",
    "a.sum()"
   ]
  },
  {
   "cell_type": "code",
   "execution_count": 44,
   "metadata": {},
   "outputs": [],
   "source": [
    "b = np.array([[1,2,3],[4,5,6]])"
   ]
  },
  {
   "cell_type": "code",
   "execution_count": 46,
   "metadata": {},
   "outputs": [
    {
     "name": "stdout",
     "output_type": "stream",
     "text": [
      "(2, 3)\n"
     ]
    }
   ],
   "source": [
    "print(b.shape)"
   ]
  },
  {
   "cell_type": "code",
   "execution_count": 47,
   "metadata": {},
   "outputs": [
    {
     "name": "stdout",
     "output_type": "stream",
     "text": [
      "1 2 4\n"
     ]
    }
   ],
   "source": [
    "print(b[0,0], b[0,1],b[1,0])"
   ]
  },
  {
   "cell_type": "code",
   "execution_count": null,
   "metadata": {},
   "outputs": [],
   "source": [
    "#función que el parámetro de la función es una lista de números. usar la función de numpy para sumar un array para sumar una lista"
   ]
  },
  {
   "cell_type": "code",
   "execution_count": 51,
   "metadata": {},
   "outputs": [],
   "source": [
    "def calculator(list_of_numbers):\n",
    "    result = np.array(list_of_numbers).sum()\n",
    "    print(f'The result is {result}')"
   ]
  },
  {
   "cell_type": "code",
   "execution_count": 52,
   "metadata": {},
   "outputs": [
    {
     "name": "stdout",
     "output_type": "stream",
     "text": [
      "The result is 21\n"
     ]
    }
   ],
   "source": [
    "calculator(b)"
   ]
  },
  {
   "cell_type": "code",
   "execution_count": 53,
   "metadata": {},
   "outputs": [
    {
     "data": {
      "text/plain": [
       "3.2"
      ]
     },
     "execution_count": 53,
     "metadata": {},
     "output_type": "execute_result"
    }
   ],
   "source": [
    "#media de la variable a\n",
    "a.mean()"
   ]
  },
  {
   "cell_type": "code",
   "execution_count": 54,
   "metadata": {},
   "outputs": [
    {
     "data": {
      "text/plain": [
       "1.16619037896906"
      ]
     },
     "execution_count": 54,
     "metadata": {},
     "output_type": "execute_result"
    }
   ],
   "source": [
    "#desviación estándar poblacional de la variable a\n",
    "a.std()"
   ]
  },
  {
   "cell_type": "code",
   "execution_count": 60,
   "metadata": {},
   "outputs": [],
   "source": [
    "#función que convierte una lista de números en un array. El segundo parámetro es la operación que le quieres aplicar.\n",
    "def calculator(list_of_numbers, operator):\n",
    "    result = operator(np.array(list_of_numbers))\n",
    "    print(f'The result is {result}')"
   ]
  },
  {
   "cell_type": "code",
   "execution_count": 61,
   "metadata": {},
   "outputs": [
    {
     "name": "stdout",
     "output_type": "stream",
     "text": [
      "The result is 15\n"
     ]
    }
   ],
   "source": [
    "calculator(numbers,sum)"
   ]
  },
  {
   "cell_type": "code",
   "execution_count": 63,
   "metadata": {},
   "outputs": [
    {
     "name": "stdout",
     "output_type": "stream",
     "text": [
      "The result is 3.0\n"
     ]
    }
   ],
   "source": [
    "calculator(numbers, np.mean)"
   ]
  },
  {
   "cell_type": "code",
   "execution_count": 64,
   "metadata": {},
   "outputs": [],
   "source": [
    "matrix = [[1,2,3],[4,5,6],[7,8,9]]"
   ]
  },
  {
   "cell_type": "code",
   "execution_count": 65,
   "metadata": {},
   "outputs": [
    {
     "name": "stdout",
     "output_type": "stream",
     "text": [
      "The result is 45\n"
     ]
    }
   ],
   "source": [
    "#la función también funciona con la matriz de arriba\n",
    "calculator(matrix,np.sum)"
   ]
  },
  {
   "cell_type": "code",
   "execution_count": 67,
   "metadata": {},
   "outputs": [],
   "source": [
    "random_matrix = np.random.random([3,3])"
   ]
  },
  {
   "cell_type": "code",
   "execution_count": 68,
   "metadata": {},
   "outputs": [
    {
     "data": {
      "text/plain": [
       "array([[0.4971037 , 0.22870231, 0.1253405 ],\n",
       "       [0.97916132, 0.94929509, 0.62619106],\n",
       "       [0.72218934, 0.22483208, 0.54378404]])"
      ]
     },
     "execution_count": 68,
     "metadata": {},
     "output_type": "execute_result"
    }
   ],
   "source": [
    "random_matrix"
   ]
  },
  {
   "cell_type": "code",
   "execution_count": 69,
   "metadata": {},
   "outputs": [
    {
     "data": {
      "text/plain": [
       "4.8965994487494955"
      ]
     },
     "execution_count": 69,
     "metadata": {},
     "output_type": "execute_result"
    }
   ],
   "source": [
    "random_matrix.sum()"
   ]
  },
  {
   "cell_type": "code",
   "execution_count": 70,
   "metadata": {},
   "outputs": [
    {
     "data": {
      "text/plain": [
       "array([2.19845435, 1.40282948, 1.29531561])"
      ]
     },
     "execution_count": 70,
     "metadata": {},
     "output_type": "execute_result"
    }
   ],
   "source": [
    "#la suma de las columnas\n",
    "random_matrix.sum(axis=0)"
   ]
  },
  {
   "cell_type": "code",
   "execution_count": 71,
   "metadata": {},
   "outputs": [
    {
     "data": {
      "text/plain": [
       "array([0.85114651, 2.55464748, 1.49080546])"
      ]
     },
     "execution_count": 71,
     "metadata": {},
     "output_type": "execute_result"
    }
   ],
   "source": [
    "#para la suma de las filas\n",
    "random_matrix.sum(axis=1)"
   ]
  },
  {
   "cell_type": "code",
   "execution_count": 72,
   "metadata": {},
   "outputs": [
    {
     "data": {
      "text/plain": [
       "array([0.73281812, 0.46760983, 0.43177187])"
      ]
     },
     "execution_count": 72,
     "metadata": {},
     "output_type": "execute_result"
    }
   ],
   "source": [
    "#valor medio para las columnas\n",
    "random_matrix.mean(axis=0)"
   ]
  },
  {
   "cell_type": "code",
   "execution_count": 74,
   "metadata": {},
   "outputs": [
    {
     "data": {
      "text/plain": [
       "array([0.19694266, 0.34060658, 0.21927588])"
      ]
     },
     "execution_count": 74,
     "metadata": {},
     "output_type": "execute_result"
    }
   ],
   "source": [
    "#desviación estándar para las columnas\n",
    "random_matrix.std(axis=0)"
   ]
  },
  {
   "cell_type": "code",
   "execution_count": 75,
   "metadata": {},
   "outputs": [],
   "source": [
    "#empezar con un array que tiene solo 0\n",
    "a = np.zeros([2,2])"
   ]
  },
  {
   "cell_type": "code",
   "execution_count": 76,
   "metadata": {},
   "outputs": [
    {
     "name": "stdout",
     "output_type": "stream",
     "text": [
      "[[0. 0.]\n",
      " [0. 0.]]\n"
     ]
    }
   ],
   "source": [
    "print(a)"
   ]
  },
  {
   "cell_type": "code",
   "execution_count": 77,
   "metadata": {},
   "outputs": [],
   "source": [
    "b = np.ones([2,2])"
   ]
  },
  {
   "cell_type": "code",
   "execution_count": 79,
   "metadata": {},
   "outputs": [
    {
     "data": {
      "text/plain": [
       "array([[1., 1.],\n",
       "       [1., 1.]])"
      ]
     },
     "execution_count": 79,
     "metadata": {},
     "output_type": "execute_result"
    }
   ],
   "source": [
    "b"
   ]
  },
  {
   "cell_type": "code",
   "execution_count": 84,
   "metadata": {},
   "outputs": [
    {
     "data": {
      "text/plain": [
       "array([[1, 1],\n",
       "       [1, 1]])"
      ]
     },
     "execution_count": 84,
     "metadata": {},
     "output_type": "execute_result"
    }
   ],
   "source": [
    "h = np.ones([2,2],dtype=np.int64)\n",
    "h"
   ]
  },
  {
   "cell_type": "code",
   "execution_count": 81,
   "metadata": {},
   "outputs": [
    {
     "data": {
      "text/plain": [
       "array([[7, 7],\n",
       "       [7, 7]])"
      ]
     },
     "execution_count": 81,
     "metadata": {},
     "output_type": "execute_result"
    }
   ],
   "source": [
    "#generar una matriz con un número fijo\n",
    "c = np.full((2,2),7)\n",
    "c"
   ]
  },
  {
   "cell_type": "code",
   "execution_count": 82,
   "metadata": {},
   "outputs": [
    {
     "data": {
      "text/plain": [
       "array([[1., 0.],\n",
       "       [0., 1.]])"
      ]
     },
     "execution_count": 82,
     "metadata": {},
     "output_type": "execute_result"
    }
   ],
   "source": [
    "#números espejo\n",
    "d = np.eye(2)\n",
    "d"
   ]
  },
  {
   "cell_type": "code",
   "execution_count": 85,
   "metadata": {},
   "outputs": [],
   "source": [
    "#crear una matrix de 3 x 4"
   ]
  },
  {
   "cell_type": "code",
   "execution_count": 87,
   "metadata": {},
   "outputs": [
    {
     "data": {
      "text/plain": [
       "array([[0.54178797, 0.19271656, 0.60587552, 0.11068918],\n",
       "       [0.70116816, 0.88461563, 0.66180567, 0.47508314],\n",
       "       [0.97161372, 0.71002361, 0.11725969, 0.65925769]])"
      ]
     },
     "execution_count": 87,
     "metadata": {},
     "output_type": "execute_result"
    }
   ],
   "source": [
    "matrix = np.random.random([3,4])\n",
    "matrix"
   ]
  },
  {
   "cell_type": "code",
   "execution_count": 91,
   "metadata": {},
   "outputs": [
    {
     "data": {
      "text/plain": [
       "array([[0.54178797, 0.19271656],\n",
       "       [0.70116816, 0.88461563]])"
      ]
     },
     "execution_count": 91,
     "metadata": {},
     "output_type": "execute_result"
    }
   ],
   "source": [
    "#valores de las dos primeras columnas y dos primeras filas\n",
    "b = matrix[:2,:2]\n",
    "b"
   ]
  },
  {
   "cell_type": "code",
   "execution_count": 97,
   "metadata": {},
   "outputs": [],
   "source": [
    "mat1 = np.random.random([3,3])\n",
    "mat2 = np.random.random([3,3])"
   ]
  },
  {
   "cell_type": "code",
   "execution_count": 98,
   "metadata": {},
   "outputs": [
    {
     "data": {
      "text/plain": [
       "array([[0.79436866, 0.97339213, 0.03643343],\n",
       "       [0.79853503, 0.8279513 , 0.62696743],\n",
       "       [0.24533127, 0.51236008, 0.65281986]])"
      ]
     },
     "execution_count": 98,
     "metadata": {},
     "output_type": "execute_result"
    }
   ],
   "source": [
    "mat1"
   ]
  },
  {
   "cell_type": "code",
   "execution_count": 99,
   "metadata": {},
   "outputs": [
    {
     "data": {
      "text/plain": [
       "array([[0.25856587, 0.89161188, 0.2758238 ],\n",
       "       [0.2911334 , 0.51981251, 0.06023839],\n",
       "       [0.12449758, 0.04125594, 0.96274931]])"
      ]
     },
     "execution_count": 99,
     "metadata": {},
     "output_type": "execute_result"
    }
   ],
   "source": [
    "mat2"
   ]
  },
  {
   "cell_type": "code",
   "execution_count": 105,
   "metadata": {},
   "outputs": [
    {
     "data": {
      "text/plain": [
       "array([[1.05293453, 1.86500401, 0.31225723],\n",
       "       [1.08966842, 1.34776381, 0.68720582],\n",
       "       [0.36982885, 0.55361602, 1.61556916]])"
      ]
     },
     "execution_count": 105,
     "metadata": {},
     "output_type": "execute_result"
    }
   ],
   "source": [
    "#sumar dos matrices\n",
    "np.add(mat1,mat2)"
   ]
  },
  {
   "cell_type": "code",
   "execution_count": 106,
   "metadata": {},
   "outputs": [
    {
     "data": {
      "text/plain": [
       "array([[ 0.5358028 ,  0.08178024, -0.23939037],\n",
       "       [ 0.50740163,  0.30813879,  0.56672904],\n",
       "       [ 0.12083369,  0.47110414, -0.30992945]])"
      ]
     },
     "execution_count": 106,
     "metadata": {},
     "output_type": "execute_result"
    }
   ],
   "source": [
    "#restar dos matrices\n",
    "np.subtract(mat1,mat2)"
   ]
  },
  {
   "cell_type": "code",
   "execution_count": 107,
   "metadata": {},
   "outputs": [
    {
     "data": {
      "text/plain": [
       "array([[ 3.0722101 ,  1.0917218 ,  0.13208952],\n",
       "       [ 2.74284927,  1.59278834, 10.40810441],\n",
       "       [ 1.97057056, 12.4190628 ,  0.67807876]])"
      ]
     },
     "execution_count": 107,
     "metadata": {},
     "output_type": "execute_result"
    }
   ],
   "source": [
    "#dividir dos matrices\n",
    "np.divide(mat1,mat2)"
   ]
  },
  {
   "cell_type": "code",
   "execution_count": 108,
   "metadata": {},
   "outputs": [
    {
     "data": {
      "text/plain": [
       "array([[0.20539662, 0.86788799, 0.01004921],\n",
       "       [0.23248022, 0.43037944, 0.03776751],\n",
       "       [0.03054315, 0.0211379 , 0.62850186]])"
      ]
     },
     "execution_count": 108,
     "metadata": {},
     "output_type": "execute_result"
    }
   ],
   "source": [
    "#multiplicar matrices\n",
    "np.multiply(mat1,mat2)"
   ]
  },
  {
   "cell_type": "code",
   "execution_count": null,
   "metadata": {},
   "outputs": [],
   "source": []
  }
 ],
 "metadata": {
  "kernelspec": {
   "display_name": "Python 3",
   "language": "python",
   "name": "python3"
  },
  "language_info": {
   "codemirror_mode": {
    "name": "ipython",
    "version": 3
   },
   "file_extension": ".py",
   "mimetype": "text/x-python",
   "name": "python",
   "nbconvert_exporter": "python",
   "pygments_lexer": "ipython3",
   "version": "3.7.3"
  }
 },
 "nbformat": 4,
 "nbformat_minor": 2
}
