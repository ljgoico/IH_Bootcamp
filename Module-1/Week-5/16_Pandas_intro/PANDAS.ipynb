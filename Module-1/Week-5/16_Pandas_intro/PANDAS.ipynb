{
 "cells": [
  {
   "cell_type": "markdown",
   "metadata": {},
   "source": [
    "# PANDAS"
   ]
  },
  {
   "cell_type": "code",
   "execution_count": 2,
   "metadata": {},
   "outputs": [],
   "source": [
    "import numpy as np\n",
    "import pandas as pd"
   ]
  },
  {
   "cell_type": "code",
   "execution_count": 3,
   "metadata": {},
   "outputs": [],
   "source": [
    "# np.nan es como un null\n",
    "s = pd.Series([1,3,5,np.nan, 6,8])"
   ]
  },
  {
   "cell_type": "code",
   "execution_count": 4,
   "metadata": {},
   "outputs": [
    {
     "data": {
      "text/plain": [
       "0    1.0\n",
       "1    3.0\n",
       "2    5.0\n",
       "3    NaN\n",
       "4    6.0\n",
       "5    8.0\n",
       "dtype: float64"
      ]
     },
     "execution_count": 4,
     "metadata": {},
     "output_type": "execute_result"
    }
   ],
   "source": [
    "s"
   ]
  },
  {
   "cell_type": "code",
   "execution_count": 5,
   "metadata": {},
   "outputs": [
    {
     "data": {
      "text/plain": [
       "3.0"
      ]
     },
     "execution_count": 5,
     "metadata": {},
     "output_type": "execute_result"
    }
   ],
   "source": [
    "s[1]"
   ]
  },
  {
   "cell_type": "code",
   "execution_count": 6,
   "metadata": {},
   "outputs": [],
   "source": [
    "s = pd.Series([1,3,5,np.nan, 6,8], index= [\"a\", \"b\", \"c\", \"d\", \"e\", \"f\"])"
   ]
  },
  {
   "cell_type": "code",
   "execution_count": 7,
   "metadata": {},
   "outputs": [
    {
     "data": {
      "text/plain": [
       "a    1.0\n",
       "b    3.0\n",
       "c    5.0\n",
       "d    NaN\n",
       "e    6.0\n",
       "f    8.0\n",
       "dtype: float64"
      ]
     },
     "execution_count": 7,
     "metadata": {},
     "output_type": "execute_result"
    }
   ],
   "source": [
    "s"
   ]
  },
  {
   "cell_type": "code",
   "execution_count": 8,
   "metadata": {},
   "outputs": [],
   "source": [
    "s = pd.Series([1,3,5,np.nan, 6,8], index= np.arange(2,14,2))"
   ]
  },
  {
   "cell_type": "code",
   "execution_count": 9,
   "metadata": {},
   "outputs": [
    {
     "data": {
      "text/plain": [
       "2     1.0\n",
       "4     3.0\n",
       "6     5.0\n",
       "8     NaN\n",
       "10    6.0\n",
       "12    8.0\n",
       "dtype: float64"
      ]
     },
     "execution_count": 9,
     "metadata": {},
     "output_type": "execute_result"
    }
   ],
   "source": [
    "s"
   ]
  },
  {
   "cell_type": "code",
   "execution_count": 10,
   "metadata": {},
   "outputs": [],
   "source": [
    "df = pd.DataFrame(np.random.random((10,5)))"
   ]
  },
  {
   "cell_type": "code",
   "execution_count": 11,
   "metadata": {},
   "outputs": [],
   "source": [
    "colnames = [\"Col1\", \"Col2\", \"Col3\", \"Col4\", \"Col5\"]"
   ]
  },
  {
   "cell_type": "code",
   "execution_count": 12,
   "metadata": {},
   "outputs": [],
   "source": [
    "df = pd.DataFrame(np.random.random((10,5)), columns = colnames)"
   ]
  },
  {
   "cell_type": "code",
   "execution_count": 13,
   "metadata": {},
   "outputs": [
    {
     "data": {
      "text/html": [
       "<div>\n",
       "<style scoped>\n",
       "    .dataframe tbody tr th:only-of-type {\n",
       "        vertical-align: middle;\n",
       "    }\n",
       "\n",
       "    .dataframe tbody tr th {\n",
       "        vertical-align: top;\n",
       "    }\n",
       "\n",
       "    .dataframe thead th {\n",
       "        text-align: right;\n",
       "    }\n",
       "</style>\n",
       "<table border=\"1\" class=\"dataframe\">\n",
       "  <thead>\n",
       "    <tr style=\"text-align: right;\">\n",
       "      <th></th>\n",
       "      <th>Col1</th>\n",
       "      <th>Col2</th>\n",
       "      <th>Col3</th>\n",
       "      <th>Col4</th>\n",
       "      <th>Col5</th>\n",
       "    </tr>\n",
       "  </thead>\n",
       "  <tbody>\n",
       "    <tr>\n",
       "      <th>0</th>\n",
       "      <td>0.497879</td>\n",
       "      <td>0.369834</td>\n",
       "      <td>0.575738</td>\n",
       "      <td>0.559787</td>\n",
       "      <td>0.239015</td>\n",
       "    </tr>\n",
       "    <tr>\n",
       "      <th>1</th>\n",
       "      <td>0.634556</td>\n",
       "      <td>0.419047</td>\n",
       "      <td>0.156435</td>\n",
       "      <td>0.171696</td>\n",
       "      <td>0.133442</td>\n",
       "    </tr>\n",
       "    <tr>\n",
       "      <th>2</th>\n",
       "      <td>0.369912</td>\n",
       "      <td>0.394515</td>\n",
       "      <td>0.868813</td>\n",
       "      <td>0.989803</td>\n",
       "      <td>0.446776</td>\n",
       "    </tr>\n",
       "    <tr>\n",
       "      <th>3</th>\n",
       "      <td>0.102295</td>\n",
       "      <td>0.109475</td>\n",
       "      <td>0.846052</td>\n",
       "      <td>0.854292</td>\n",
       "      <td>0.384810</td>\n",
       "    </tr>\n",
       "    <tr>\n",
       "      <th>4</th>\n",
       "      <td>0.443997</td>\n",
       "      <td>0.640383</td>\n",
       "      <td>0.976122</td>\n",
       "      <td>0.422376</td>\n",
       "      <td>0.093824</td>\n",
       "    </tr>\n",
       "  </tbody>\n",
       "</table>\n",
       "</div>"
      ],
      "text/plain": [
       "       Col1      Col2      Col3      Col4      Col5\n",
       "0  0.497879  0.369834  0.575738  0.559787  0.239015\n",
       "1  0.634556  0.419047  0.156435  0.171696  0.133442\n",
       "2  0.369912  0.394515  0.868813  0.989803  0.446776\n",
       "3  0.102295  0.109475  0.846052  0.854292  0.384810\n",
       "4  0.443997  0.640383  0.976122  0.422376  0.093824"
      ]
     },
     "execution_count": 13,
     "metadata": {},
     "output_type": "execute_result"
    }
   ],
   "source": [
    "df.head()"
   ]
  },
  {
   "cell_type": "code",
   "execution_count": 14,
   "metadata": {},
   "outputs": [
    {
     "data": {
      "text/plain": [
       "0    0.497879\n",
       "1    0.634556\n",
       "2    0.369912\n",
       "3    0.102295\n",
       "4    0.443997\n",
       "5    0.679038\n",
       "6    0.452344\n",
       "7    0.620700\n",
       "8    0.619924\n",
       "9    0.818815\n",
       "Name: Col1, dtype: float64"
      ]
     },
     "execution_count": 14,
     "metadata": {},
     "output_type": "execute_result"
    }
   ],
   "source": [
    "# para seleccionar solo una columna\n",
    "df[\"Col1\"]"
   ]
  },
  {
   "cell_type": "code",
   "execution_count": 15,
   "metadata": {},
   "outputs": [],
   "source": [
    "# para seleccionar más de una columna"
   ]
  },
  {
   "cell_type": "code",
   "execution_count": 16,
   "metadata": {},
   "outputs": [
    {
     "data": {
      "text/html": [
       "<div>\n",
       "<style scoped>\n",
       "    .dataframe tbody tr th:only-of-type {\n",
       "        vertical-align: middle;\n",
       "    }\n",
       "\n",
       "    .dataframe tbody tr th {\n",
       "        vertical-align: top;\n",
       "    }\n",
       "\n",
       "    .dataframe thead th {\n",
       "        text-align: right;\n",
       "    }\n",
       "</style>\n",
       "<table border=\"1\" class=\"dataframe\">\n",
       "  <thead>\n",
       "    <tr style=\"text-align: right;\">\n",
       "      <th></th>\n",
       "      <th>Col1</th>\n",
       "      <th>Col2</th>\n",
       "      <th>Col3</th>\n",
       "    </tr>\n",
       "  </thead>\n",
       "  <tbody>\n",
       "    <tr>\n",
       "      <th>0</th>\n",
       "      <td>0.497879</td>\n",
       "      <td>0.369834</td>\n",
       "      <td>0.575738</td>\n",
       "    </tr>\n",
       "    <tr>\n",
       "      <th>1</th>\n",
       "      <td>0.634556</td>\n",
       "      <td>0.419047</td>\n",
       "      <td>0.156435</td>\n",
       "    </tr>\n",
       "    <tr>\n",
       "      <th>2</th>\n",
       "      <td>0.369912</td>\n",
       "      <td>0.394515</td>\n",
       "      <td>0.868813</td>\n",
       "    </tr>\n",
       "    <tr>\n",
       "      <th>3</th>\n",
       "      <td>0.102295</td>\n",
       "      <td>0.109475</td>\n",
       "      <td>0.846052</td>\n",
       "    </tr>\n",
       "    <tr>\n",
       "      <th>4</th>\n",
       "      <td>0.443997</td>\n",
       "      <td>0.640383</td>\n",
       "      <td>0.976122</td>\n",
       "    </tr>\n",
       "    <tr>\n",
       "      <th>5</th>\n",
       "      <td>0.679038</td>\n",
       "      <td>0.602330</td>\n",
       "      <td>0.675324</td>\n",
       "    </tr>\n",
       "    <tr>\n",
       "      <th>6</th>\n",
       "      <td>0.452344</td>\n",
       "      <td>0.295904</td>\n",
       "      <td>0.983546</td>\n",
       "    </tr>\n",
       "    <tr>\n",
       "      <th>7</th>\n",
       "      <td>0.620700</td>\n",
       "      <td>0.280208</td>\n",
       "      <td>0.631331</td>\n",
       "    </tr>\n",
       "    <tr>\n",
       "      <th>8</th>\n",
       "      <td>0.619924</td>\n",
       "      <td>0.519696</td>\n",
       "      <td>0.779067</td>\n",
       "    </tr>\n",
       "    <tr>\n",
       "      <th>9</th>\n",
       "      <td>0.818815</td>\n",
       "      <td>0.851234</td>\n",
       "      <td>0.957978</td>\n",
       "    </tr>\n",
       "  </tbody>\n",
       "</table>\n",
       "</div>"
      ],
      "text/plain": [
       "       Col1      Col2      Col3\n",
       "0  0.497879  0.369834  0.575738\n",
       "1  0.634556  0.419047  0.156435\n",
       "2  0.369912  0.394515  0.868813\n",
       "3  0.102295  0.109475  0.846052\n",
       "4  0.443997  0.640383  0.976122\n",
       "5  0.679038  0.602330  0.675324\n",
       "6  0.452344  0.295904  0.983546\n",
       "7  0.620700  0.280208  0.631331\n",
       "8  0.619924  0.519696  0.779067\n",
       "9  0.818815  0.851234  0.957978"
      ]
     },
     "execution_count": 16,
     "metadata": {},
     "output_type": "execute_result"
    }
   ],
   "source": [
    "df[[\"Col1\", \"Col2\", \"Col3\"]]"
   ]
  },
  {
   "cell_type": "code",
   "execution_count": 17,
   "metadata": {},
   "outputs": [],
   "source": [
    "# quiero cambiar el nombre de las filas a fechas, y queremos que cada paso en el range sea 1 día (periods). Por defecto es un día\n",
    "df.index=pd.date_range(\"2019/01/30\", periods=df.shape[0])"
   ]
  },
  {
   "cell_type": "code",
   "execution_count": 18,
   "metadata": {},
   "outputs": [
    {
     "data": {
      "text/html": [
       "<div>\n",
       "<style scoped>\n",
       "    .dataframe tbody tr th:only-of-type {\n",
       "        vertical-align: middle;\n",
       "    }\n",
       "\n",
       "    .dataframe tbody tr th {\n",
       "        vertical-align: top;\n",
       "    }\n",
       "\n",
       "    .dataframe thead th {\n",
       "        text-align: right;\n",
       "    }\n",
       "</style>\n",
       "<table border=\"1\" class=\"dataframe\">\n",
       "  <thead>\n",
       "    <tr style=\"text-align: right;\">\n",
       "      <th></th>\n",
       "      <th>Col1</th>\n",
       "      <th>Col2</th>\n",
       "      <th>Col3</th>\n",
       "      <th>Col4</th>\n",
       "      <th>Col5</th>\n",
       "    </tr>\n",
       "  </thead>\n",
       "  <tbody>\n",
       "    <tr>\n",
       "      <th>2019-01-30</th>\n",
       "      <td>0.497879</td>\n",
       "      <td>0.369834</td>\n",
       "      <td>0.575738</td>\n",
       "      <td>0.559787</td>\n",
       "      <td>0.239015</td>\n",
       "    </tr>\n",
       "    <tr>\n",
       "      <th>2019-01-31</th>\n",
       "      <td>0.634556</td>\n",
       "      <td>0.419047</td>\n",
       "      <td>0.156435</td>\n",
       "      <td>0.171696</td>\n",
       "      <td>0.133442</td>\n",
       "    </tr>\n",
       "    <tr>\n",
       "      <th>2019-02-01</th>\n",
       "      <td>0.369912</td>\n",
       "      <td>0.394515</td>\n",
       "      <td>0.868813</td>\n",
       "      <td>0.989803</td>\n",
       "      <td>0.446776</td>\n",
       "    </tr>\n",
       "    <tr>\n",
       "      <th>2019-02-02</th>\n",
       "      <td>0.102295</td>\n",
       "      <td>0.109475</td>\n",
       "      <td>0.846052</td>\n",
       "      <td>0.854292</td>\n",
       "      <td>0.384810</td>\n",
       "    </tr>\n",
       "    <tr>\n",
       "      <th>2019-02-03</th>\n",
       "      <td>0.443997</td>\n",
       "      <td>0.640383</td>\n",
       "      <td>0.976122</td>\n",
       "      <td>0.422376</td>\n",
       "      <td>0.093824</td>\n",
       "    </tr>\n",
       "    <tr>\n",
       "      <th>2019-02-04</th>\n",
       "      <td>0.679038</td>\n",
       "      <td>0.602330</td>\n",
       "      <td>0.675324</td>\n",
       "      <td>0.255124</td>\n",
       "      <td>0.829835</td>\n",
       "    </tr>\n",
       "    <tr>\n",
       "      <th>2019-02-05</th>\n",
       "      <td>0.452344</td>\n",
       "      <td>0.295904</td>\n",
       "      <td>0.983546</td>\n",
       "      <td>0.912587</td>\n",
       "      <td>0.811240</td>\n",
       "    </tr>\n",
       "    <tr>\n",
       "      <th>2019-02-06</th>\n",
       "      <td>0.620700</td>\n",
       "      <td>0.280208</td>\n",
       "      <td>0.631331</td>\n",
       "      <td>0.314175</td>\n",
       "      <td>0.002852</td>\n",
       "    </tr>\n",
       "    <tr>\n",
       "      <th>2019-02-07</th>\n",
       "      <td>0.619924</td>\n",
       "      <td>0.519696</td>\n",
       "      <td>0.779067</td>\n",
       "      <td>0.475898</td>\n",
       "      <td>0.904789</td>\n",
       "    </tr>\n",
       "    <tr>\n",
       "      <th>2019-02-08</th>\n",
       "      <td>0.818815</td>\n",
       "      <td>0.851234</td>\n",
       "      <td>0.957978</td>\n",
       "      <td>0.480859</td>\n",
       "      <td>0.280226</td>\n",
       "    </tr>\n",
       "  </tbody>\n",
       "</table>\n",
       "</div>"
      ],
      "text/plain": [
       "                Col1      Col2      Col3      Col4      Col5\n",
       "2019-01-30  0.497879  0.369834  0.575738  0.559787  0.239015\n",
       "2019-01-31  0.634556  0.419047  0.156435  0.171696  0.133442\n",
       "2019-02-01  0.369912  0.394515  0.868813  0.989803  0.446776\n",
       "2019-02-02  0.102295  0.109475  0.846052  0.854292  0.384810\n",
       "2019-02-03  0.443997  0.640383  0.976122  0.422376  0.093824\n",
       "2019-02-04  0.679038  0.602330  0.675324  0.255124  0.829835\n",
       "2019-02-05  0.452344  0.295904  0.983546  0.912587  0.811240\n",
       "2019-02-06  0.620700  0.280208  0.631331  0.314175  0.002852\n",
       "2019-02-07  0.619924  0.519696  0.779067  0.475898  0.904789\n",
       "2019-02-08  0.818815  0.851234  0.957978  0.480859  0.280226"
      ]
     },
     "execution_count": 18,
     "metadata": {},
     "output_type": "execute_result"
    }
   ],
   "source": [
    "df"
   ]
  },
  {
   "cell_type": "code",
   "execution_count": 19,
   "metadata": {},
   "outputs": [
    {
     "name": "stdout",
     "output_type": "stream",
     "text": [
      "Help on function date_range in module pandas.core.indexes.datetimes:\n",
      "\n",
      "date_range(start=None, end=None, periods=None, freq=None, tz=None, normalize=False, name=None, closed=None, **kwargs)\n",
      "    Return a fixed frequency DatetimeIndex.\n",
      "    \n",
      "    Parameters\n",
      "    ----------\n",
      "    start : str or datetime-like, optional\n",
      "        Left bound for generating dates.\n",
      "    end : str or datetime-like, optional\n",
      "        Right bound for generating dates.\n",
      "    periods : integer, optional\n",
      "        Number of periods to generate.\n",
      "    freq : str or DateOffset, default 'D'\n",
      "        Frequency strings can have multiples, e.g. '5H'. See\n",
      "        :ref:`here <timeseries.offset_aliases>` for a list of\n",
      "        frequency aliases.\n",
      "    tz : str or tzinfo, optional\n",
      "        Time zone name for returning localized DatetimeIndex, for example\n",
      "        'Asia/Hong_Kong'. By default, the resulting DatetimeIndex is\n",
      "        timezone-naive.\n",
      "    normalize : bool, default False\n",
      "        Normalize start/end dates to midnight before generating date range.\n",
      "    name : str, default None\n",
      "        Name of the resulting DatetimeIndex.\n",
      "    closed : {None, 'left', 'right'}, optional\n",
      "        Make the interval closed with respect to the given frequency to\n",
      "        the 'left', 'right', or both sides (None, the default).\n",
      "    **kwargs\n",
      "        For compatibility. Has no effect on the result.\n",
      "    \n",
      "    Returns\n",
      "    -------\n",
      "    rng : DatetimeIndex\n",
      "    \n",
      "    See Also\n",
      "    --------\n",
      "    pandas.DatetimeIndex : An immutable container for datetimes.\n",
      "    pandas.timedelta_range : Return a fixed frequency TimedeltaIndex.\n",
      "    pandas.period_range : Return a fixed frequency PeriodIndex.\n",
      "    pandas.interval_range : Return a fixed frequency IntervalIndex.\n",
      "    \n",
      "    Notes\n",
      "    -----\n",
      "    Of the four parameters ``start``, ``end``, ``periods``, and ``freq``,\n",
      "    exactly three must be specified. If ``freq`` is omitted, the resulting\n",
      "    ``DatetimeIndex`` will have ``periods`` linearly spaced elements between\n",
      "    ``start`` and ``end`` (closed on both sides).\n",
      "    \n",
      "    To learn more about the frequency strings, please see `this link\n",
      "    <http://pandas.pydata.org/pandas-docs/stable/timeseries.html#offset-aliases>`__.\n",
      "    \n",
      "    Examples\n",
      "    --------\n",
      "    **Specifying the values**\n",
      "    \n",
      "    The next four examples generate the same `DatetimeIndex`, but vary\n",
      "    the combination of `start`, `end` and `periods`.\n",
      "    \n",
      "    Specify `start` and `end`, with the default daily frequency.\n",
      "    \n",
      "    >>> pd.date_range(start='1/1/2018', end='1/08/2018')\n",
      "    DatetimeIndex(['2018-01-01', '2018-01-02', '2018-01-03', '2018-01-04',\n",
      "                   '2018-01-05', '2018-01-06', '2018-01-07', '2018-01-08'],\n",
      "                  dtype='datetime64[ns]', freq='D')\n",
      "    \n",
      "    Specify `start` and `periods`, the number of periods (days).\n",
      "    \n",
      "    >>> pd.date_range(start='1/1/2018', periods=8)\n",
      "    DatetimeIndex(['2018-01-01', '2018-01-02', '2018-01-03', '2018-01-04',\n",
      "                   '2018-01-05', '2018-01-06', '2018-01-07', '2018-01-08'],\n",
      "                  dtype='datetime64[ns]', freq='D')\n",
      "    \n",
      "    Specify `end` and `periods`, the number of periods (days).\n",
      "    \n",
      "    >>> pd.date_range(end='1/1/2018', periods=8)\n",
      "    DatetimeIndex(['2017-12-25', '2017-12-26', '2017-12-27', '2017-12-28',\n",
      "                   '2017-12-29', '2017-12-30', '2017-12-31', '2018-01-01'],\n",
      "                  dtype='datetime64[ns]', freq='D')\n",
      "    \n",
      "    Specify `start`, `end`, and `periods`; the frequency is generated\n",
      "    automatically (linearly spaced).\n",
      "    \n",
      "    >>> pd.date_range(start='2018-04-24', end='2018-04-27', periods=3)\n",
      "    DatetimeIndex(['2018-04-24 00:00:00', '2018-04-25 12:00:00',\n",
      "                   '2018-04-27 00:00:00'],\n",
      "                  dtype='datetime64[ns]', freq=None)\n",
      "    \n",
      "    **Other Parameters**\n",
      "    \n",
      "    Changed the `freq` (frequency) to ``'M'`` (month end frequency).\n",
      "    \n",
      "    >>> pd.date_range(start='1/1/2018', periods=5, freq='M')\n",
      "    DatetimeIndex(['2018-01-31', '2018-02-28', '2018-03-31', '2018-04-30',\n",
      "                   '2018-05-31'],\n",
      "                  dtype='datetime64[ns]', freq='M')\n",
      "    \n",
      "    Multiples are allowed\n",
      "    \n",
      "    >>> pd.date_range(start='1/1/2018', periods=5, freq='3M')\n",
      "    DatetimeIndex(['2018-01-31', '2018-04-30', '2018-07-31', '2018-10-31',\n",
      "                   '2019-01-31'],\n",
      "                  dtype='datetime64[ns]', freq='3M')\n",
      "    \n",
      "    `freq` can also be specified as an Offset object.\n",
      "    \n",
      "    >>> pd.date_range(start='1/1/2018', periods=5, freq=pd.offsets.MonthEnd(3))\n",
      "    DatetimeIndex(['2018-01-31', '2018-04-30', '2018-07-31', '2018-10-31',\n",
      "                   '2019-01-31'],\n",
      "                  dtype='datetime64[ns]', freq='3M')\n",
      "    \n",
      "    Specify `tz` to set the timezone.\n",
      "    \n",
      "    >>> pd.date_range(start='1/1/2018', periods=5, tz='Asia/Tokyo')\n",
      "    DatetimeIndex(['2018-01-01 00:00:00+09:00', '2018-01-02 00:00:00+09:00',\n",
      "                   '2018-01-03 00:00:00+09:00', '2018-01-04 00:00:00+09:00',\n",
      "                   '2018-01-05 00:00:00+09:00'],\n",
      "                  dtype='datetime64[ns, Asia/Tokyo]', freq='D')\n",
      "    \n",
      "    `closed` controls whether to include `start` and `end` that are on the\n",
      "    boundary. The default includes boundary points on either end.\n",
      "    \n",
      "    >>> pd.date_range(start='2017-01-01', end='2017-01-04', closed=None)\n",
      "    DatetimeIndex(['2017-01-01', '2017-01-02', '2017-01-03', '2017-01-04'],\n",
      "                  dtype='datetime64[ns]', freq='D')\n",
      "    \n",
      "    Use ``closed='left'`` to exclude `end` if it falls on the boundary.\n",
      "    \n",
      "    >>> pd.date_range(start='2017-01-01', end='2017-01-04', closed='left')\n",
      "    DatetimeIndex(['2017-01-01', '2017-01-02', '2017-01-03'],\n",
      "                  dtype='datetime64[ns]', freq='D')\n",
      "    \n",
      "    Use ``closed='right'`` to exclude `start` if it falls on the boundary.\n",
      "    \n",
      "    >>> pd.date_range(start='2017-01-01', end='2017-01-04', closed='right')\n",
      "    DatetimeIndex(['2017-01-02', '2017-01-03', '2017-01-04'],\n",
      "                  dtype='datetime64[ns]', freq='D')\n",
      "\n"
     ]
    }
   ],
   "source": [
    "#si necesitas ayuda sobre algún comando (por ejemplo, date_range)\n",
    "help(pd.date_range)"
   ]
  },
  {
   "cell_type": "markdown",
   "metadata": {},
   "source": [
    "### Convertir listas o diccionarios"
   ]
  },
  {
   "cell_type": "code",
   "execution_count": 20,
   "metadata": {},
   "outputs": [],
   "source": [
    "lst = [4985792387, 9834798274, 948759238745, 39847593857, 983475]\n",
    "\n",
    "price_df = pd.DataFrame(lst, columns = [\"Sale_Price\"])"
   ]
  },
  {
   "cell_type": "code",
   "execution_count": 21,
   "metadata": {},
   "outputs": [
    {
     "data": {
      "text/html": [
       "<div>\n",
       "<style scoped>\n",
       "    .dataframe tbody tr th:only-of-type {\n",
       "        vertical-align: middle;\n",
       "    }\n",
       "\n",
       "    .dataframe tbody tr th {\n",
       "        vertical-align: top;\n",
       "    }\n",
       "\n",
       "    .dataframe thead th {\n",
       "        text-align: right;\n",
       "    }\n",
       "</style>\n",
       "<table border=\"1\" class=\"dataframe\">\n",
       "  <thead>\n",
       "    <tr style=\"text-align: right;\">\n",
       "      <th></th>\n",
       "      <th>Sale_Price</th>\n",
       "    </tr>\n",
       "  </thead>\n",
       "  <tbody>\n",
       "    <tr>\n",
       "      <th>0</th>\n",
       "      <td>4985792387</td>\n",
       "    </tr>\n",
       "    <tr>\n",
       "      <th>1</th>\n",
       "      <td>9834798274</td>\n",
       "    </tr>\n",
       "    <tr>\n",
       "      <th>2</th>\n",
       "      <td>948759238745</td>\n",
       "    </tr>\n",
       "    <tr>\n",
       "      <th>3</th>\n",
       "      <td>39847593857</td>\n",
       "    </tr>\n",
       "    <tr>\n",
       "      <th>4</th>\n",
       "      <td>983475</td>\n",
       "    </tr>\n",
       "  </tbody>\n",
       "</table>\n",
       "</div>"
      ],
      "text/plain": [
       "     Sale_Price\n",
       "0    4985792387\n",
       "1    9834798274\n",
       "2  948759238745\n",
       "3   39847593857\n",
       "4        983475"
      ]
     },
     "execution_count": 21,
     "metadata": {},
     "output_type": "execute_result"
    }
   ],
   "source": [
    "price_df"
   ]
  },
  {
   "cell_type": "code",
   "execution_count": 22,
   "metadata": {},
   "outputs": [
    {
     "ename": "KeyError",
     "evalue": "'2'",
     "output_type": "error",
     "traceback": [
      "\u001b[0;31m---------------------------------------------------------------------------\u001b[0m",
      "\u001b[0;31mKeyError\u001b[0m                                  Traceback (most recent call last)",
      "\u001b[0;32m/anaconda3/lib/python3.7/site-packages/pandas/core/indexes/base.py\u001b[0m in \u001b[0;36mget_loc\u001b[0;34m(self, key, method, tolerance)\u001b[0m\n\u001b[1;32m   2656\u001b[0m             \u001b[0;32mtry\u001b[0m\u001b[0;34m:\u001b[0m\u001b[0;34m\u001b[0m\u001b[0;34m\u001b[0m\u001b[0m\n\u001b[0;32m-> 2657\u001b[0;31m                 \u001b[0;32mreturn\u001b[0m \u001b[0mself\u001b[0m\u001b[0;34m.\u001b[0m\u001b[0m_engine\u001b[0m\u001b[0;34m.\u001b[0m\u001b[0mget_loc\u001b[0m\u001b[0;34m(\u001b[0m\u001b[0mkey\u001b[0m\u001b[0;34m)\u001b[0m\u001b[0;34m\u001b[0m\u001b[0;34m\u001b[0m\u001b[0m\n\u001b[0m\u001b[1;32m   2658\u001b[0m             \u001b[0;32mexcept\u001b[0m \u001b[0mKeyError\u001b[0m\u001b[0;34m:\u001b[0m\u001b[0;34m\u001b[0m\u001b[0;34m\u001b[0m\u001b[0m\n",
      "\u001b[0;32mpandas/_libs/index.pyx\u001b[0m in \u001b[0;36mpandas._libs.index.IndexEngine.get_loc\u001b[0;34m()\u001b[0m\n",
      "\u001b[0;32mpandas/_libs/index.pyx\u001b[0m in \u001b[0;36mpandas._libs.index.IndexEngine.get_loc\u001b[0;34m()\u001b[0m\n",
      "\u001b[0;32mpandas/_libs/hashtable_class_helper.pxi\u001b[0m in \u001b[0;36mpandas._libs.hashtable.PyObjectHashTable.get_item\u001b[0;34m()\u001b[0m\n",
      "\u001b[0;32mpandas/_libs/hashtable_class_helper.pxi\u001b[0m in \u001b[0;36mpandas._libs.hashtable.PyObjectHashTable.get_item\u001b[0;34m()\u001b[0m\n",
      "\u001b[0;31mKeyError\u001b[0m: '2'",
      "\nDuring handling of the above exception, another exception occurred:\n",
      "\u001b[0;31mKeyError\u001b[0m                                  Traceback (most recent call last)",
      "\u001b[0;32m<ipython-input-22-a7b68df99be1>\u001b[0m in \u001b[0;36m<module>\u001b[0;34m\u001b[0m\n\u001b[0;32m----> 1\u001b[0;31m \u001b[0mprice_df\u001b[0m\u001b[0;34m[\u001b[0m\u001b[0;34m'2'\u001b[0m\u001b[0;34m]\u001b[0m\u001b[0;34m\u001b[0m\u001b[0;34m\u001b[0m\u001b[0m\n\u001b[0m",
      "\u001b[0;32m/anaconda3/lib/python3.7/site-packages/pandas/core/frame.py\u001b[0m in \u001b[0;36m__getitem__\u001b[0;34m(self, key)\u001b[0m\n\u001b[1;32m   2925\u001b[0m             \u001b[0;32mif\u001b[0m \u001b[0mself\u001b[0m\u001b[0;34m.\u001b[0m\u001b[0mcolumns\u001b[0m\u001b[0;34m.\u001b[0m\u001b[0mnlevels\u001b[0m \u001b[0;34m>\u001b[0m \u001b[0;36m1\u001b[0m\u001b[0;34m:\u001b[0m\u001b[0;34m\u001b[0m\u001b[0;34m\u001b[0m\u001b[0m\n\u001b[1;32m   2926\u001b[0m                 \u001b[0;32mreturn\u001b[0m \u001b[0mself\u001b[0m\u001b[0;34m.\u001b[0m\u001b[0m_getitem_multilevel\u001b[0m\u001b[0;34m(\u001b[0m\u001b[0mkey\u001b[0m\u001b[0;34m)\u001b[0m\u001b[0;34m\u001b[0m\u001b[0;34m\u001b[0m\u001b[0m\n\u001b[0;32m-> 2927\u001b[0;31m             \u001b[0mindexer\u001b[0m \u001b[0;34m=\u001b[0m \u001b[0mself\u001b[0m\u001b[0;34m.\u001b[0m\u001b[0mcolumns\u001b[0m\u001b[0;34m.\u001b[0m\u001b[0mget_loc\u001b[0m\u001b[0;34m(\u001b[0m\u001b[0mkey\u001b[0m\u001b[0;34m)\u001b[0m\u001b[0;34m\u001b[0m\u001b[0;34m\u001b[0m\u001b[0m\n\u001b[0m\u001b[1;32m   2928\u001b[0m             \u001b[0;32mif\u001b[0m \u001b[0mis_integer\u001b[0m\u001b[0;34m(\u001b[0m\u001b[0mindexer\u001b[0m\u001b[0;34m)\u001b[0m\u001b[0;34m:\u001b[0m\u001b[0;34m\u001b[0m\u001b[0;34m\u001b[0m\u001b[0m\n\u001b[1;32m   2929\u001b[0m                 \u001b[0mindexer\u001b[0m \u001b[0;34m=\u001b[0m \u001b[0;34m[\u001b[0m\u001b[0mindexer\u001b[0m\u001b[0;34m]\u001b[0m\u001b[0;34m\u001b[0m\u001b[0;34m\u001b[0m\u001b[0m\n",
      "\u001b[0;32m/anaconda3/lib/python3.7/site-packages/pandas/core/indexes/base.py\u001b[0m in \u001b[0;36mget_loc\u001b[0;34m(self, key, method, tolerance)\u001b[0m\n\u001b[1;32m   2657\u001b[0m                 \u001b[0;32mreturn\u001b[0m \u001b[0mself\u001b[0m\u001b[0;34m.\u001b[0m\u001b[0m_engine\u001b[0m\u001b[0;34m.\u001b[0m\u001b[0mget_loc\u001b[0m\u001b[0;34m(\u001b[0m\u001b[0mkey\u001b[0m\u001b[0;34m)\u001b[0m\u001b[0;34m\u001b[0m\u001b[0;34m\u001b[0m\u001b[0m\n\u001b[1;32m   2658\u001b[0m             \u001b[0;32mexcept\u001b[0m \u001b[0mKeyError\u001b[0m\u001b[0;34m:\u001b[0m\u001b[0;34m\u001b[0m\u001b[0;34m\u001b[0m\u001b[0m\n\u001b[0;32m-> 2659\u001b[0;31m                 \u001b[0;32mreturn\u001b[0m \u001b[0mself\u001b[0m\u001b[0;34m.\u001b[0m\u001b[0m_engine\u001b[0m\u001b[0;34m.\u001b[0m\u001b[0mget_loc\u001b[0m\u001b[0;34m(\u001b[0m\u001b[0mself\u001b[0m\u001b[0;34m.\u001b[0m\u001b[0m_maybe_cast_indexer\u001b[0m\u001b[0;34m(\u001b[0m\u001b[0mkey\u001b[0m\u001b[0;34m)\u001b[0m\u001b[0;34m)\u001b[0m\u001b[0;34m\u001b[0m\u001b[0;34m\u001b[0m\u001b[0m\n\u001b[0m\u001b[1;32m   2660\u001b[0m         \u001b[0mindexer\u001b[0m \u001b[0;34m=\u001b[0m \u001b[0mself\u001b[0m\u001b[0;34m.\u001b[0m\u001b[0mget_indexer\u001b[0m\u001b[0;34m(\u001b[0m\u001b[0;34m[\u001b[0m\u001b[0mkey\u001b[0m\u001b[0;34m]\u001b[0m\u001b[0;34m,\u001b[0m \u001b[0mmethod\u001b[0m\u001b[0;34m=\u001b[0m\u001b[0mmethod\u001b[0m\u001b[0;34m,\u001b[0m \u001b[0mtolerance\u001b[0m\u001b[0;34m=\u001b[0m\u001b[0mtolerance\u001b[0m\u001b[0;34m)\u001b[0m\u001b[0;34m\u001b[0m\u001b[0;34m\u001b[0m\u001b[0m\n\u001b[1;32m   2661\u001b[0m         \u001b[0;32mif\u001b[0m \u001b[0mindexer\u001b[0m\u001b[0;34m.\u001b[0m\u001b[0mndim\u001b[0m \u001b[0;34m>\u001b[0m \u001b[0;36m1\u001b[0m \u001b[0;32mor\u001b[0m \u001b[0mindexer\u001b[0m\u001b[0;34m.\u001b[0m\u001b[0msize\u001b[0m \u001b[0;34m>\u001b[0m \u001b[0;36m1\u001b[0m\u001b[0;34m:\u001b[0m\u001b[0;34m\u001b[0m\u001b[0;34m\u001b[0m\u001b[0m\n",
      "\u001b[0;32mpandas/_libs/index.pyx\u001b[0m in \u001b[0;36mpandas._libs.index.IndexEngine.get_loc\u001b[0;34m()\u001b[0m\n",
      "\u001b[0;32mpandas/_libs/index.pyx\u001b[0m in \u001b[0;36mpandas._libs.index.IndexEngine.get_loc\u001b[0;34m()\u001b[0m\n",
      "\u001b[0;32mpandas/_libs/hashtable_class_helper.pxi\u001b[0m in \u001b[0;36mpandas._libs.hashtable.PyObjectHashTable.get_item\u001b[0;34m()\u001b[0m\n",
      "\u001b[0;32mpandas/_libs/hashtable_class_helper.pxi\u001b[0m in \u001b[0;36mpandas._libs.hashtable.PyObjectHashTable.get_item\u001b[0;34m()\u001b[0m\n",
      "\u001b[0;31mKeyError\u001b[0m: '2'"
     ]
    }
   ],
   "source": [
    "price_df['2']"
   ]
  },
  {
   "cell_type": "code",
   "execution_count": 23,
   "metadata": {},
   "outputs": [],
   "source": [
    "#crear un dataframe de una lista de listas\n",
    "lst_lst = [[8450, 'CollgCr', 2003, 7, 208500],\n",
    "          [9600, 'Veenker', 1976, 6, 181500],\n",
    "          [11250, 'CollgCr', 2001, 7, 223500],\n",
    "          [9550, 'Crawfor', 1915, 7, 140000],\n",
    "          [14260, 'NoRidge', 2000, 8, 250000],\n",
    "          [14115, 'Mitchel', 1993, 5, 143000],\n",
    "          [10084, 'Somerst', 2004, 8, 307000],\n",
    "          [10382, 'NWAmes', 1973, 7, 200000],\n",
    "          [6120, 'OldTown', 1931, 7, 129900],\n",
    "          [7420, 'BrkSide', 1939, 5, 118000]]"
   ]
  },
  {
   "cell_type": "code",
   "execution_count": 60,
   "metadata": {},
   "outputs": [],
   "source": [
    "#definimos los nombres de las columnas\n",
    "colnames = [\"LotSize\", \"Neighorhood\", \"YearBuilt\", \"Quality\", \"SalePrice\"]"
   ]
  },
  {
   "cell_type": "code",
   "execution_count": 65,
   "metadata": {},
   "outputs": [],
   "source": [
    "lst_df = pd.DataFrame(lst_lst, columns=colnames)"
   ]
  },
  {
   "cell_type": "code",
   "execution_count": 66,
   "metadata": {},
   "outputs": [
    {
     "data": {
      "text/html": [
       "<div>\n",
       "<style scoped>\n",
       "    .dataframe tbody tr th:only-of-type {\n",
       "        vertical-align: middle;\n",
       "    }\n",
       "\n",
       "    .dataframe tbody tr th {\n",
       "        vertical-align: top;\n",
       "    }\n",
       "\n",
       "    .dataframe thead th {\n",
       "        text-align: right;\n",
       "    }\n",
       "</style>\n",
       "<table border=\"1\" class=\"dataframe\">\n",
       "  <thead>\n",
       "    <tr style=\"text-align: right;\">\n",
       "      <th></th>\n",
       "      <th>LotSize</th>\n",
       "      <th>Neighorhood</th>\n",
       "      <th>YearBuilt</th>\n",
       "      <th>Quality</th>\n",
       "      <th>SalePrice</th>\n",
       "    </tr>\n",
       "  </thead>\n",
       "  <tbody>\n",
       "    <tr>\n",
       "      <th>0</th>\n",
       "      <td>8450</td>\n",
       "      <td>CollgCr</td>\n",
       "      <td>2003</td>\n",
       "      <td>7</td>\n",
       "      <td>208500</td>\n",
       "    </tr>\n",
       "    <tr>\n",
       "      <th>1</th>\n",
       "      <td>9600</td>\n",
       "      <td>Veenker</td>\n",
       "      <td>1976</td>\n",
       "      <td>6</td>\n",
       "      <td>181500</td>\n",
       "    </tr>\n",
       "    <tr>\n",
       "      <th>2</th>\n",
       "      <td>11250</td>\n",
       "      <td>CollgCr</td>\n",
       "      <td>2001</td>\n",
       "      <td>7</td>\n",
       "      <td>223500</td>\n",
       "    </tr>\n",
       "    <tr>\n",
       "      <th>3</th>\n",
       "      <td>9550</td>\n",
       "      <td>Crawfor</td>\n",
       "      <td>1915</td>\n",
       "      <td>7</td>\n",
       "      <td>140000</td>\n",
       "    </tr>\n",
       "    <tr>\n",
       "      <th>4</th>\n",
       "      <td>14260</td>\n",
       "      <td>NoRidge</td>\n",
       "      <td>2000</td>\n",
       "      <td>8</td>\n",
       "      <td>250000</td>\n",
       "    </tr>\n",
       "    <tr>\n",
       "      <th>5</th>\n",
       "      <td>14115</td>\n",
       "      <td>Mitchel</td>\n",
       "      <td>1993</td>\n",
       "      <td>5</td>\n",
       "      <td>143000</td>\n",
       "    </tr>\n",
       "    <tr>\n",
       "      <th>6</th>\n",
       "      <td>10084</td>\n",
       "      <td>Somerst</td>\n",
       "      <td>2004</td>\n",
       "      <td>8</td>\n",
       "      <td>307000</td>\n",
       "    </tr>\n",
       "    <tr>\n",
       "      <th>7</th>\n",
       "      <td>10382</td>\n",
       "      <td>NWAmes</td>\n",
       "      <td>1973</td>\n",
       "      <td>7</td>\n",
       "      <td>200000</td>\n",
       "    </tr>\n",
       "    <tr>\n",
       "      <th>8</th>\n",
       "      <td>6120</td>\n",
       "      <td>OldTown</td>\n",
       "      <td>1931</td>\n",
       "      <td>7</td>\n",
       "      <td>129900</td>\n",
       "    </tr>\n",
       "    <tr>\n",
       "      <th>9</th>\n",
       "      <td>7420</td>\n",
       "      <td>BrkSide</td>\n",
       "      <td>1939</td>\n",
       "      <td>5</td>\n",
       "      <td>118000</td>\n",
       "    </tr>\n",
       "  </tbody>\n",
       "</table>\n",
       "</div>"
      ],
      "text/plain": [
       "   LotSize Neighorhood  YearBuilt  Quality  SalePrice\n",
       "0     8450     CollgCr       2003        7     208500\n",
       "1     9600     Veenker       1976        6     181500\n",
       "2    11250     CollgCr       2001        7     223500\n",
       "3     9550     Crawfor       1915        7     140000\n",
       "4    14260     NoRidge       2000        8     250000\n",
       "5    14115     Mitchel       1993        5     143000\n",
       "6    10084     Somerst       2004        8     307000\n",
       "7    10382      NWAmes       1973        7     200000\n",
       "8     6120     OldTown       1931        7     129900\n",
       "9     7420     BrkSide       1939        5     118000"
      ]
     },
     "execution_count": 66,
     "metadata": {},
     "output_type": "execute_result"
    }
   ],
   "source": [
    "lst_df"
   ]
  },
  {
   "cell_type": "code",
   "execution_count": 42,
   "metadata": {},
   "outputs": [],
   "source": [
    "#y ahora un diccionario:\n",
    "\n",
    "house_dict = {'Baker House': [7420, 'BrkSide', 1939, 5, 118000],\n",
    "             'Beazley House': [14115, 'Mitchel', 1993, 5, 143000],\n",
    "             'Dominguez House': [14260, 'NoRidge', 2000, 8, 250000],\n",
    "             'Hamilton House': [6120, 'OldTown', 1931, 7, 129900],\n",
    "             'James House': [11250, 'CollgCr', 2001, 7, 223500],\n",
    "             'Martinez House': [9600, 'Veenker', 1976, 6, 181500],\n",
    "             'Roberts House': [9550, 'Crawfor', 1915, 7, 140000],\n",
    "             'Smith House': [8450, 'CollgCr', 2003, 7, 208500],\n",
    "             'Snyder House': [10084, 'Somerst', 2004, 8, 307000],\n",
    "             'Zuckerman House': [10382, 'NWAmes', 1973, 7, 200000]}"
   ]
  },
  {
   "cell_type": "code",
   "execution_count": 43,
   "metadata": {},
   "outputs": [
    {
     "data": {
      "text/html": [
       "<div>\n",
       "<style scoped>\n",
       "    .dataframe tbody tr th:only-of-type {\n",
       "        vertical-align: middle;\n",
       "    }\n",
       "\n",
       "    .dataframe tbody tr th {\n",
       "        vertical-align: top;\n",
       "    }\n",
       "\n",
       "    .dataframe thead th {\n",
       "        text-align: right;\n",
       "    }\n",
       "</style>\n",
       "<table border=\"1\" class=\"dataframe\">\n",
       "  <thead>\n",
       "    <tr style=\"text-align: right;\">\n",
       "      <th></th>\n",
       "      <th>Baker House</th>\n",
       "      <th>Beazley House</th>\n",
       "      <th>Dominguez House</th>\n",
       "      <th>Hamilton House</th>\n",
       "      <th>James House</th>\n",
       "      <th>Martinez House</th>\n",
       "      <th>Roberts House</th>\n",
       "      <th>Smith House</th>\n",
       "      <th>Snyder House</th>\n",
       "      <th>Zuckerman House</th>\n",
       "    </tr>\n",
       "  </thead>\n",
       "  <tbody>\n",
       "    <tr>\n",
       "      <th>0</th>\n",
       "      <td>7420</td>\n",
       "      <td>14115</td>\n",
       "      <td>14260</td>\n",
       "      <td>6120</td>\n",
       "      <td>11250</td>\n",
       "      <td>9600</td>\n",
       "      <td>9550</td>\n",
       "      <td>8450</td>\n",
       "      <td>10084</td>\n",
       "      <td>10382</td>\n",
       "    </tr>\n",
       "    <tr>\n",
       "      <th>1</th>\n",
       "      <td>BrkSide</td>\n",
       "      <td>Mitchel</td>\n",
       "      <td>NoRidge</td>\n",
       "      <td>OldTown</td>\n",
       "      <td>CollgCr</td>\n",
       "      <td>Veenker</td>\n",
       "      <td>Crawfor</td>\n",
       "      <td>CollgCr</td>\n",
       "      <td>Somerst</td>\n",
       "      <td>NWAmes</td>\n",
       "    </tr>\n",
       "    <tr>\n",
       "      <th>2</th>\n",
       "      <td>1939</td>\n",
       "      <td>1993</td>\n",
       "      <td>2000</td>\n",
       "      <td>1931</td>\n",
       "      <td>2001</td>\n",
       "      <td>1976</td>\n",
       "      <td>1915</td>\n",
       "      <td>2003</td>\n",
       "      <td>2004</td>\n",
       "      <td>1973</td>\n",
       "    </tr>\n",
       "    <tr>\n",
       "      <th>3</th>\n",
       "      <td>5</td>\n",
       "      <td>5</td>\n",
       "      <td>8</td>\n",
       "      <td>7</td>\n",
       "      <td>7</td>\n",
       "      <td>6</td>\n",
       "      <td>7</td>\n",
       "      <td>7</td>\n",
       "      <td>8</td>\n",
       "      <td>7</td>\n",
       "    </tr>\n",
       "    <tr>\n",
       "      <th>4</th>\n",
       "      <td>118000</td>\n",
       "      <td>143000</td>\n",
       "      <td>250000</td>\n",
       "      <td>129900</td>\n",
       "      <td>223500</td>\n",
       "      <td>181500</td>\n",
       "      <td>140000</td>\n",
       "      <td>208500</td>\n",
       "      <td>307000</td>\n",
       "      <td>200000</td>\n",
       "    </tr>\n",
       "  </tbody>\n",
       "</table>\n",
       "</div>"
      ],
      "text/plain": [
       "  Baker House Beazley House Dominguez House Hamilton House James House  \\\n",
       "0        7420         14115           14260           6120       11250   \n",
       "1     BrkSide       Mitchel         NoRidge        OldTown     CollgCr   \n",
       "2        1939          1993            2000           1931        2001   \n",
       "3           5             5               8              7           7   \n",
       "4      118000        143000          250000         129900      223500   \n",
       "\n",
       "  Martinez House Roberts House Smith House Snyder House Zuckerman House  \n",
       "0           9600          9550        8450        10084           10382  \n",
       "1        Veenker       Crawfor     CollgCr      Somerst          NWAmes  \n",
       "2           1976          1915        2003         2004            1973  \n",
       "3              6             7           7            8               7  \n",
       "4         181500        140000      208500       307000          200000  "
      ]
     },
     "execution_count": 43,
     "metadata": {},
     "output_type": "execute_result"
    }
   ],
   "source": [
    "#la opción más sencilla es la siguiente, que coge las keys como índices\n",
    "pd.DataFrame(house_dict)"
   ]
  },
  {
   "cell_type": "code",
   "execution_count": 46,
   "metadata": {},
   "outputs": [],
   "source": [
    "#para colocarlo bien\n",
    "house_df = pd.DataFrame(house_dict).transpose()"
   ]
  },
  {
   "cell_type": "code",
   "execution_count": 47,
   "metadata": {},
   "outputs": [],
   "source": [
    "#para modificar el nombre de las columnas\n",
    "house_df.columns= colnames"
   ]
  },
  {
   "cell_type": "code",
   "execution_count": 48,
   "metadata": {},
   "outputs": [
    {
     "data": {
      "text/html": [
       "<div>\n",
       "<style scoped>\n",
       "    .dataframe tbody tr th:only-of-type {\n",
       "        vertical-align: middle;\n",
       "    }\n",
       "\n",
       "    .dataframe tbody tr th {\n",
       "        vertical-align: top;\n",
       "    }\n",
       "\n",
       "    .dataframe thead th {\n",
       "        text-align: right;\n",
       "    }\n",
       "</style>\n",
       "<table border=\"1\" class=\"dataframe\">\n",
       "  <thead>\n",
       "    <tr style=\"text-align: right;\">\n",
       "      <th></th>\n",
       "      <th>Col1</th>\n",
       "      <th>Col2</th>\n",
       "      <th>Col3</th>\n",
       "      <th>Col4</th>\n",
       "      <th>Col5</th>\n",
       "    </tr>\n",
       "  </thead>\n",
       "  <tbody>\n",
       "    <tr>\n",
       "      <th>Baker House</th>\n",
       "      <td>7420</td>\n",
       "      <td>BrkSide</td>\n",
       "      <td>1939</td>\n",
       "      <td>5</td>\n",
       "      <td>118000</td>\n",
       "    </tr>\n",
       "    <tr>\n",
       "      <th>Beazley House</th>\n",
       "      <td>14115</td>\n",
       "      <td>Mitchel</td>\n",
       "      <td>1993</td>\n",
       "      <td>5</td>\n",
       "      <td>143000</td>\n",
       "    </tr>\n",
       "    <tr>\n",
       "      <th>Dominguez House</th>\n",
       "      <td>14260</td>\n",
       "      <td>NoRidge</td>\n",
       "      <td>2000</td>\n",
       "      <td>8</td>\n",
       "      <td>250000</td>\n",
       "    </tr>\n",
       "    <tr>\n",
       "      <th>Hamilton House</th>\n",
       "      <td>6120</td>\n",
       "      <td>OldTown</td>\n",
       "      <td>1931</td>\n",
       "      <td>7</td>\n",
       "      <td>129900</td>\n",
       "    </tr>\n",
       "    <tr>\n",
       "      <th>James House</th>\n",
       "      <td>11250</td>\n",
       "      <td>CollgCr</td>\n",
       "      <td>2001</td>\n",
       "      <td>7</td>\n",
       "      <td>223500</td>\n",
       "    </tr>\n",
       "  </tbody>\n",
       "</table>\n",
       "</div>"
      ],
      "text/plain": [
       "                  Col1     Col2  Col3 Col4    Col5\n",
       "Baker House       7420  BrkSide  1939    5  118000\n",
       "Beazley House    14115  Mitchel  1993    5  143000\n",
       "Dominguez House  14260  NoRidge  2000    8  250000\n",
       "Hamilton House    6120  OldTown  1931    7  129900\n",
       "James House      11250  CollgCr  2001    7  223500"
      ]
     },
     "execution_count": 48,
     "metadata": {},
     "output_type": "execute_result"
    }
   ],
   "source": [
    "house_df.head()"
   ]
  },
  {
   "cell_type": "code",
   "execution_count": 49,
   "metadata": {},
   "outputs": [],
   "source": [
    "#otra forma de hacerlo, de manera que ya sabe que estamos importando información de un diccionario\n",
    "\n",
    "house_df_2=pd.DataFrame.from_dict(house_dict, orient = \"index\")"
   ]
  },
  {
   "cell_type": "code",
   "execution_count": 51,
   "metadata": {},
   "outputs": [
    {
     "data": {
      "text/html": [
       "<div>\n",
       "<style scoped>\n",
       "    .dataframe tbody tr th:only-of-type {\n",
       "        vertical-align: middle;\n",
       "    }\n",
       "\n",
       "    .dataframe tbody tr th {\n",
       "        vertical-align: top;\n",
       "    }\n",
       "\n",
       "    .dataframe thead th {\n",
       "        text-align: right;\n",
       "    }\n",
       "</style>\n",
       "<table border=\"1\" class=\"dataframe\">\n",
       "  <thead>\n",
       "    <tr style=\"text-align: right;\">\n",
       "      <th></th>\n",
       "      <th>0</th>\n",
       "      <th>1</th>\n",
       "      <th>2</th>\n",
       "      <th>3</th>\n",
       "      <th>4</th>\n",
       "    </tr>\n",
       "  </thead>\n",
       "  <tbody>\n",
       "    <tr>\n",
       "      <th>Baker House</th>\n",
       "      <td>7420</td>\n",
       "      <td>BrkSide</td>\n",
       "      <td>1939</td>\n",
       "      <td>5</td>\n",
       "      <td>118000</td>\n",
       "    </tr>\n",
       "    <tr>\n",
       "      <th>Beazley House</th>\n",
       "      <td>14115</td>\n",
       "      <td>Mitchel</td>\n",
       "      <td>1993</td>\n",
       "      <td>5</td>\n",
       "      <td>143000</td>\n",
       "    </tr>\n",
       "    <tr>\n",
       "      <th>Dominguez House</th>\n",
       "      <td>14260</td>\n",
       "      <td>NoRidge</td>\n",
       "      <td>2000</td>\n",
       "      <td>8</td>\n",
       "      <td>250000</td>\n",
       "    </tr>\n",
       "    <tr>\n",
       "      <th>Hamilton House</th>\n",
       "      <td>6120</td>\n",
       "      <td>OldTown</td>\n",
       "      <td>1931</td>\n",
       "      <td>7</td>\n",
       "      <td>129900</td>\n",
       "    </tr>\n",
       "    <tr>\n",
       "      <th>James House</th>\n",
       "      <td>11250</td>\n",
       "      <td>CollgCr</td>\n",
       "      <td>2001</td>\n",
       "      <td>7</td>\n",
       "      <td>223500</td>\n",
       "    </tr>\n",
       "  </tbody>\n",
       "</table>\n",
       "</div>"
      ],
      "text/plain": [
       "                     0        1     2  3       4\n",
       "Baker House       7420  BrkSide  1939  5  118000\n",
       "Beazley House    14115  Mitchel  1993  5  143000\n",
       "Dominguez House  14260  NoRidge  2000  8  250000\n",
       "Hamilton House    6120  OldTown  1931  7  129900\n",
       "James House      11250  CollgCr  2001  7  223500"
      ]
     },
     "execution_count": 51,
     "metadata": {},
     "output_type": "execute_result"
    }
   ],
   "source": [
    "house_df_2.head()"
   ]
  },
  {
   "cell_type": "code",
   "execution_count": 52,
   "metadata": {},
   "outputs": [
    {
     "data": {
      "text/html": [
       "<div>\n",
       "<style scoped>\n",
       "    .dataframe tbody tr th:only-of-type {\n",
       "        vertical-align: middle;\n",
       "    }\n",
       "\n",
       "    .dataframe tbody tr th {\n",
       "        vertical-align: top;\n",
       "    }\n",
       "\n",
       "    .dataframe thead th {\n",
       "        text-align: right;\n",
       "    }\n",
       "</style>\n",
       "<table border=\"1\" class=\"dataframe\">\n",
       "  <thead>\n",
       "    <tr style=\"text-align: right;\">\n",
       "      <th></th>\n",
       "      <th>Col1</th>\n",
       "      <th>Col2</th>\n",
       "      <th>Col3</th>\n",
       "      <th>Col4</th>\n",
       "      <th>Col5</th>\n",
       "    </tr>\n",
       "  </thead>\n",
       "  <tbody>\n",
       "    <tr>\n",
       "      <th>Martinez House</th>\n",
       "      <td>9600</td>\n",
       "      <td>Veenker</td>\n",
       "      <td>1976</td>\n",
       "      <td>6</td>\n",
       "      <td>181500</td>\n",
       "    </tr>\n",
       "    <tr>\n",
       "      <th>Roberts House</th>\n",
       "      <td>9550</td>\n",
       "      <td>Crawfor</td>\n",
       "      <td>1915</td>\n",
       "      <td>7</td>\n",
       "      <td>140000</td>\n",
       "    </tr>\n",
       "    <tr>\n",
       "      <th>Smith House</th>\n",
       "      <td>8450</td>\n",
       "      <td>CollgCr</td>\n",
       "      <td>2003</td>\n",
       "      <td>7</td>\n",
       "      <td>208500</td>\n",
       "    </tr>\n",
       "    <tr>\n",
       "      <th>Snyder House</th>\n",
       "      <td>10084</td>\n",
       "      <td>Somerst</td>\n",
       "      <td>2004</td>\n",
       "      <td>8</td>\n",
       "      <td>307000</td>\n",
       "    </tr>\n",
       "    <tr>\n",
       "      <th>Zuckerman House</th>\n",
       "      <td>10382</td>\n",
       "      <td>NWAmes</td>\n",
       "      <td>1973</td>\n",
       "      <td>7</td>\n",
       "      <td>200000</td>\n",
       "    </tr>\n",
       "  </tbody>\n",
       "</table>\n",
       "</div>"
      ],
      "text/plain": [
       "                  Col1     Col2  Col3 Col4    Col5\n",
       "Martinez House    9600  Veenker  1976    6  181500\n",
       "Roberts House     9550  Crawfor  1915    7  140000\n",
       "Smith House       8450  CollgCr  2003    7  208500\n",
       "Snyder House     10084  Somerst  2004    8  307000\n",
       "Zuckerman House  10382   NWAmes  1973    7  200000"
      ]
     },
     "execution_count": 52,
     "metadata": {},
     "output_type": "execute_result"
    }
   ],
   "source": [
    "#la función tail te da lo mismo que head pero empezando por el final\n",
    "house_df.tail()"
   ]
  },
  {
   "cell_type": "code",
   "execution_count": 53,
   "metadata": {},
   "outputs": [
    {
     "data": {
      "text/plain": [
       "(10, 5)"
      ]
     },
     "execution_count": 53,
     "metadata": {},
     "output_type": "execute_result"
    }
   ],
   "source": [
    "#también existe la función shape, que significa que hay 10 filas y 5 columnas\n",
    "house_df.shape"
   ]
  },
  {
   "cell_type": "code",
   "execution_count": 55,
   "metadata": {},
   "outputs": [
    {
     "name": "stdout",
     "output_type": "stream",
     "text": [
      "<class 'pandas.core.frame.DataFrame'>\n",
      "Index: 10 entries, Baker House to Zuckerman House\n",
      "Data columns (total 5 columns):\n",
      "Col1    10 non-null object\n",
      "Col2    10 non-null object\n",
      "Col3    10 non-null object\n",
      "Col4    10 non-null object\n",
      "Col5    10 non-null object\n",
      "dtypes: object(5)\n",
      "memory usage: 480.0+ bytes\n"
     ]
    }
   ],
   "source": [
    "#la función info te da los tipos de datos e información del dataframe\n",
    "house_df.info()"
   ]
  },
  {
   "cell_type": "code",
   "execution_count": 67,
   "metadata": {},
   "outputs": [
    {
     "data": {
      "text/plain": [
       "7    5\n",
       "8    2\n",
       "5    2\n",
       "6    1\n",
       "Name: Quality, dtype: int64"
      ]
     },
     "execution_count": 67,
     "metadata": {},
     "output_type": "execute_result"
    }
   ],
   "source": [
    "#para contar las ocurrencias de cada valor. \n",
    "\n",
    "lst_df[\"Quality\"].value_counts(dropna=False)"
   ]
  },
  {
   "cell_type": "code",
   "execution_count": null,
   "metadata": {},
   "outputs": [],
   "source": [
    "house_df.apply(pd.Series.value_counts)\n",
    "\n",
    "#para cada serie que tenemos en este dataframe quiero mirar las ocurrencias. Hace como un crosstab de todo"
   ]
  },
  {
   "cell_type": "code",
   "execution_count": 69,
   "metadata": {},
   "outputs": [
    {
     "data": {
      "text/plain": [
       "1.0"
      ]
     },
     "execution_count": 69,
     "metadata": {},
     "output_type": "execute_result"
    }
   ],
   "source": [
    "#si queremos seleccionar parte de una serie o dataframe, podemos jugar con los índices o con iloc (se usa para buscar por posición)\n",
    "\n",
    "\n",
    "s.iloc[0]\n",
    "#nos va a dar el primer valor de la serie s"
   ]
  },
  {
   "cell_type": "code",
   "execution_count": 70,
   "metadata": {},
   "outputs": [
    {
     "data": {
      "text/plain": [
       "Col1       6120\n",
       "Col2    OldTown\n",
       "Col3       1931\n",
       "Col4          7\n",
       "Col5     129900\n",
       "Name: Hamilton House, dtype: object"
      ]
     },
     "execution_count": 70,
     "metadata": {},
     "output_type": "execute_result"
    }
   ],
   "source": [
    "#esto me da toda la info de Hamilton House en el house_df\n",
    "house_df.loc[\"Hamilton House\"]"
   ]
  },
  {
   "cell_type": "code",
   "execution_count": 73,
   "metadata": {},
   "outputs": [
    {
     "data": {
      "text/plain": [
       "Col1    0.313659\n",
       "Col2    0.704162\n",
       "Col3    0.504396\n",
       "Col4    0.627406\n",
       "Col5    0.458778\n",
       "Name: 2019-01-30 00:00:00, dtype: float64"
      ]
     },
     "execution_count": 73,
     "metadata": {},
     "output_type": "execute_result"
    }
   ],
   "source": [
    "df.iloc[0]"
   ]
  },
  {
   "cell_type": "code",
   "execution_count": 74,
   "metadata": {},
   "outputs": [
    {
     "data": {
      "text/plain": [
       "Col1    0.313659\n",
       "Col2    0.704162\n",
       "Col3    0.504396\n",
       "Col4    0.627406\n",
       "Col5    0.458778\n",
       "Name: 2019-01-30 00:00:00, dtype: float64"
      ]
     },
     "execution_count": 74,
     "metadata": {},
     "output_type": "execute_result"
    }
   ],
   "source": [
    "#más ejemplos\n",
    "df.loc[\"2019/01/30\"]"
   ]
  },
  {
   "cell_type": "code",
   "execution_count": 75,
   "metadata": {},
   "outputs": [
    {
     "data": {
      "text/plain": [
       "Col1    0.313659\n",
       "Col2    0.704162\n",
       "Col3    0.504396\n",
       "Col4    0.627406\n",
       "Col5    0.458778\n",
       "Name: 2019-01-30 00:00:00, dtype: float64"
      ]
     },
     "execution_count": 75,
     "metadata": {},
     "output_type": "execute_result"
    }
   ],
   "source": [
    "#si solo quiero la primera fila\n",
    "df.iloc[0,:]"
   ]
  },
  {
   "cell_type": "code",
   "execution_count": 76,
   "metadata": {},
   "outputs": [
    {
     "data": {
      "text/plain": [
       "0.3136587045337602"
      ]
     },
     "execution_count": 76,
     "metadata": {},
     "output_type": "execute_result"
    }
   ],
   "source": [
    "#coordenadas. primera fila y primera columna\n",
    "df.iloc[0,0]"
   ]
  },
  {
   "cell_type": "code",
   "execution_count": 77,
   "metadata": {},
   "outputs": [
    {
     "data": {
      "text/html": [
       "<div>\n",
       "<style scoped>\n",
       "    .dataframe tbody tr th:only-of-type {\n",
       "        vertical-align: middle;\n",
       "    }\n",
       "\n",
       "    .dataframe tbody tr th {\n",
       "        vertical-align: top;\n",
       "    }\n",
       "\n",
       "    .dataframe thead th {\n",
       "        text-align: right;\n",
       "    }\n",
       "</style>\n",
       "<table border=\"1\" class=\"dataframe\">\n",
       "  <thead>\n",
       "    <tr style=\"text-align: right;\">\n",
       "      <th></th>\n",
       "      <th>Col1</th>\n",
       "      <th>Col2</th>\n",
       "    </tr>\n",
       "  </thead>\n",
       "  <tbody>\n",
       "    <tr>\n",
       "      <th>2019-01-30</th>\n",
       "      <td>0.313659</td>\n",
       "      <td>0.704162</td>\n",
       "    </tr>\n",
       "    <tr>\n",
       "      <th>2019-01-31</th>\n",
       "      <td>0.560701</td>\n",
       "      <td>0.936633</td>\n",
       "    </tr>\n",
       "  </tbody>\n",
       "</table>\n",
       "</div>"
      ],
      "text/plain": [
       "                Col1      Col2\n",
       "2019-01-30  0.313659  0.704162\n",
       "2019-01-31  0.560701  0.936633"
      ]
     },
     "execution_count": 77,
     "metadata": {},
     "output_type": "execute_result"
    }
   ],
   "source": [
    "df.iloc[:2,:2]"
   ]
  },
  {
   "cell_type": "code",
   "execution_count": 79,
   "metadata": {},
   "outputs": [
    {
     "ename": "KeyError",
     "evalue": "'Hamilton House'",
     "output_type": "error",
     "traceback": [
      "\u001b[0;31m---------------------------------------------------------------------------\u001b[0m",
      "\u001b[0;31mKeyError\u001b[0m                                  Traceback (most recent call last)",
      "\u001b[0;32m/anaconda3/lib/python3.7/site-packages/pandas/core/indexes/base.py\u001b[0m in \u001b[0;36mget_loc\u001b[0;34m(self, key, method, tolerance)\u001b[0m\n\u001b[1;32m   2656\u001b[0m             \u001b[0;32mtry\u001b[0m\u001b[0;34m:\u001b[0m\u001b[0;34m\u001b[0m\u001b[0;34m\u001b[0m\u001b[0m\n\u001b[0;32m-> 2657\u001b[0;31m                 \u001b[0;32mreturn\u001b[0m \u001b[0mself\u001b[0m\u001b[0;34m.\u001b[0m\u001b[0m_engine\u001b[0m\u001b[0;34m.\u001b[0m\u001b[0mget_loc\u001b[0m\u001b[0;34m(\u001b[0m\u001b[0mkey\u001b[0m\u001b[0;34m)\u001b[0m\u001b[0;34m\u001b[0m\u001b[0;34m\u001b[0m\u001b[0m\n\u001b[0m\u001b[1;32m   2658\u001b[0m             \u001b[0;32mexcept\u001b[0m \u001b[0mKeyError\u001b[0m\u001b[0;34m:\u001b[0m\u001b[0;34m\u001b[0m\u001b[0;34m\u001b[0m\u001b[0m\n",
      "\u001b[0;32mpandas/_libs/index.pyx\u001b[0m in \u001b[0;36mpandas._libs.index.IndexEngine.get_loc\u001b[0;34m()\u001b[0m\n",
      "\u001b[0;32mpandas/_libs/index.pyx\u001b[0m in \u001b[0;36mpandas._libs.index.IndexEngine.get_loc\u001b[0;34m()\u001b[0m\n",
      "\u001b[0;32mpandas/_libs/hashtable_class_helper.pxi\u001b[0m in \u001b[0;36mpandas._libs.hashtable.PyObjectHashTable.get_item\u001b[0;34m()\u001b[0m\n",
      "\u001b[0;32mpandas/_libs/hashtable_class_helper.pxi\u001b[0m in \u001b[0;36mpandas._libs.hashtable.PyObjectHashTable.get_item\u001b[0;34m()\u001b[0m\n",
      "\u001b[0;31mKeyError\u001b[0m: 'Hamilton House'",
      "\nDuring handling of the above exception, another exception occurred:\n",
      "\u001b[0;31mKeyError\u001b[0m                                  Traceback (most recent call last)",
      "\u001b[0;32m<ipython-input-79-9eca9808e647>\u001b[0m in \u001b[0;36m<module>\u001b[0;34m\u001b[0m\n\u001b[1;32m      1\u001b[0m \u001b[0;31m#suma de la columna SalePrice\u001b[0m\u001b[0;34m\u001b[0m\u001b[0;34m\u001b[0m\u001b[0;34m\u001b[0m\u001b[0m\n\u001b[1;32m      2\u001b[0m \u001b[0;34m\u001b[0m\u001b[0m\n\u001b[0;32m----> 3\u001b[0;31m \u001b[0mhouse_df\u001b[0m\u001b[0;34m[\u001b[0m\u001b[0;34m\"Hamilton House\"\u001b[0m\u001b[0;34m]\u001b[0m\u001b[0;34m.\u001b[0m\u001b[0msum\u001b[0m\u001b[0;34m(\u001b[0m\u001b[0;34m)\u001b[0m\u001b[0;34m\u001b[0m\u001b[0;34m\u001b[0m\u001b[0m\n\u001b[0m",
      "\u001b[0;32m/anaconda3/lib/python3.7/site-packages/pandas/core/frame.py\u001b[0m in \u001b[0;36m__getitem__\u001b[0;34m(self, key)\u001b[0m\n\u001b[1;32m   2925\u001b[0m             \u001b[0;32mif\u001b[0m \u001b[0mself\u001b[0m\u001b[0;34m.\u001b[0m\u001b[0mcolumns\u001b[0m\u001b[0;34m.\u001b[0m\u001b[0mnlevels\u001b[0m \u001b[0;34m>\u001b[0m \u001b[0;36m1\u001b[0m\u001b[0;34m:\u001b[0m\u001b[0;34m\u001b[0m\u001b[0;34m\u001b[0m\u001b[0m\n\u001b[1;32m   2926\u001b[0m                 \u001b[0;32mreturn\u001b[0m \u001b[0mself\u001b[0m\u001b[0;34m.\u001b[0m\u001b[0m_getitem_multilevel\u001b[0m\u001b[0;34m(\u001b[0m\u001b[0mkey\u001b[0m\u001b[0;34m)\u001b[0m\u001b[0;34m\u001b[0m\u001b[0;34m\u001b[0m\u001b[0m\n\u001b[0;32m-> 2927\u001b[0;31m             \u001b[0mindexer\u001b[0m \u001b[0;34m=\u001b[0m \u001b[0mself\u001b[0m\u001b[0;34m.\u001b[0m\u001b[0mcolumns\u001b[0m\u001b[0;34m.\u001b[0m\u001b[0mget_loc\u001b[0m\u001b[0;34m(\u001b[0m\u001b[0mkey\u001b[0m\u001b[0;34m)\u001b[0m\u001b[0;34m\u001b[0m\u001b[0;34m\u001b[0m\u001b[0m\n\u001b[0m\u001b[1;32m   2928\u001b[0m             \u001b[0;32mif\u001b[0m \u001b[0mis_integer\u001b[0m\u001b[0;34m(\u001b[0m\u001b[0mindexer\u001b[0m\u001b[0;34m)\u001b[0m\u001b[0;34m:\u001b[0m\u001b[0;34m\u001b[0m\u001b[0;34m\u001b[0m\u001b[0m\n\u001b[1;32m   2929\u001b[0m                 \u001b[0mindexer\u001b[0m \u001b[0;34m=\u001b[0m \u001b[0;34m[\u001b[0m\u001b[0mindexer\u001b[0m\u001b[0;34m]\u001b[0m\u001b[0;34m\u001b[0m\u001b[0;34m\u001b[0m\u001b[0m\n",
      "\u001b[0;32m/anaconda3/lib/python3.7/site-packages/pandas/core/indexes/base.py\u001b[0m in \u001b[0;36mget_loc\u001b[0;34m(self, key, method, tolerance)\u001b[0m\n\u001b[1;32m   2657\u001b[0m                 \u001b[0;32mreturn\u001b[0m \u001b[0mself\u001b[0m\u001b[0;34m.\u001b[0m\u001b[0m_engine\u001b[0m\u001b[0;34m.\u001b[0m\u001b[0mget_loc\u001b[0m\u001b[0;34m(\u001b[0m\u001b[0mkey\u001b[0m\u001b[0;34m)\u001b[0m\u001b[0;34m\u001b[0m\u001b[0;34m\u001b[0m\u001b[0m\n\u001b[1;32m   2658\u001b[0m             \u001b[0;32mexcept\u001b[0m \u001b[0mKeyError\u001b[0m\u001b[0;34m:\u001b[0m\u001b[0;34m\u001b[0m\u001b[0;34m\u001b[0m\u001b[0m\n\u001b[0;32m-> 2659\u001b[0;31m                 \u001b[0;32mreturn\u001b[0m \u001b[0mself\u001b[0m\u001b[0;34m.\u001b[0m\u001b[0m_engine\u001b[0m\u001b[0;34m.\u001b[0m\u001b[0mget_loc\u001b[0m\u001b[0;34m(\u001b[0m\u001b[0mself\u001b[0m\u001b[0;34m.\u001b[0m\u001b[0m_maybe_cast_indexer\u001b[0m\u001b[0;34m(\u001b[0m\u001b[0mkey\u001b[0m\u001b[0;34m)\u001b[0m\u001b[0;34m)\u001b[0m\u001b[0;34m\u001b[0m\u001b[0;34m\u001b[0m\u001b[0m\n\u001b[0m\u001b[1;32m   2660\u001b[0m         \u001b[0mindexer\u001b[0m \u001b[0;34m=\u001b[0m \u001b[0mself\u001b[0m\u001b[0;34m.\u001b[0m\u001b[0mget_indexer\u001b[0m\u001b[0;34m(\u001b[0m\u001b[0;34m[\u001b[0m\u001b[0mkey\u001b[0m\u001b[0;34m]\u001b[0m\u001b[0;34m,\u001b[0m \u001b[0mmethod\u001b[0m\u001b[0;34m=\u001b[0m\u001b[0mmethod\u001b[0m\u001b[0;34m,\u001b[0m \u001b[0mtolerance\u001b[0m\u001b[0;34m=\u001b[0m\u001b[0mtolerance\u001b[0m\u001b[0;34m)\u001b[0m\u001b[0;34m\u001b[0m\u001b[0;34m\u001b[0m\u001b[0m\n\u001b[1;32m   2661\u001b[0m         \u001b[0;32mif\u001b[0m \u001b[0mindexer\u001b[0m\u001b[0;34m.\u001b[0m\u001b[0mndim\u001b[0m \u001b[0;34m>\u001b[0m \u001b[0;36m1\u001b[0m \u001b[0;32mor\u001b[0m \u001b[0mindexer\u001b[0m\u001b[0;34m.\u001b[0m\u001b[0msize\u001b[0m \u001b[0;34m>\u001b[0m \u001b[0;36m1\u001b[0m\u001b[0;34m:\u001b[0m\u001b[0;34m\u001b[0m\u001b[0;34m\u001b[0m\u001b[0m\n",
      "\u001b[0;32mpandas/_libs/index.pyx\u001b[0m in \u001b[0;36mpandas._libs.index.IndexEngine.get_loc\u001b[0;34m()\u001b[0m\n",
      "\u001b[0;32mpandas/_libs/index.pyx\u001b[0m in \u001b[0;36mpandas._libs.index.IndexEngine.get_loc\u001b[0;34m()\u001b[0m\n",
      "\u001b[0;32mpandas/_libs/hashtable_class_helper.pxi\u001b[0m in \u001b[0;36mpandas._libs.hashtable.PyObjectHashTable.get_item\u001b[0;34m()\u001b[0m\n",
      "\u001b[0;32mpandas/_libs/hashtable_class_helper.pxi\u001b[0m in \u001b[0;36mpandas._libs.hashtable.PyObjectHashTable.get_item\u001b[0;34m()\u001b[0m\n",
      "\u001b[0;31mKeyError\u001b[0m: 'Hamilton House'"
     ]
    }
   ],
   "source": [
    "#suma de la columna SalePrice \n",
    "\n",
    "house_df[\"SalePrice\"].sum()"
   ]
  },
  {
   "cell_type": "code",
   "execution_count": null,
   "metadata": {},
   "outputs": [],
   "source": []
  }
 ],
 "metadata": {
  "kernelspec": {
   "display_name": "Python 3",
   "language": "python",
   "name": "python3"
  },
  "language_info": {
   "codemirror_mode": {
    "name": "ipython",
    "version": 3
   },
   "file_extension": ".py",
   "mimetype": "text/x-python",
   "name": "python",
   "nbconvert_exporter": "python",
   "pygments_lexer": "ipython3",
   "version": "3.7.3"
  }
 },
 "nbformat": 4,
 "nbformat_minor": 2
}
