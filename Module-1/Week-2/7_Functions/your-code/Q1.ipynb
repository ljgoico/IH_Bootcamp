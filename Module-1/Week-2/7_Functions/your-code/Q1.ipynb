{
 "cells": [
  {
   "cell_type": "markdown",
   "metadata": {},
   "source": [
    "In the cell below, create a Python function that wraps your previous solution for the Bag of Words lab.\n",
    "\n",
    "Requirements:\n",
    "\n",
    "1. Your function should accept the following parameters:\n",
    "    * `docs` [REQUIRED] - array of document paths.\n",
    "    * `stop_words` [OPTIONAL] - array of stop words. The default value is an empty array.\n",
    "\n",
    "1. Your function should return a Python object that contains the following:\n",
    "    * `bag_of_words` - array of strings of normalized unique words in the corpus.\n",
    "    * `term_freq` - array of the term-frequency vectors."
   ]
  },
  {
   "cell_type": "code",
   "execution_count": 1,
   "metadata": {},
   "outputs": [
    {
     "name": "stdout",
     "output_type": "stream",
     "text": [
      "Requirement already satisfied: sklearn in /anaconda3/lib/python3.7/site-packages (0.0)\r\n",
      "Requirement already satisfied: scikit-learn in /anaconda3/lib/python3.7/site-packages (from sklearn) (0.20.3)\r\n",
      "Requirement already satisfied: scipy>=0.13.3 in /anaconda3/lib/python3.7/site-packages (from scikit-learn->sklearn) (1.2.1)\r\n",
      "Requirement already satisfied: numpy>=1.8.2 in /anaconda3/lib/python3.7/site-packages (from scikit-learn->sklearn) (1.16.4)\r\n"
     ]
    }
   ],
   "source": [
    "import sys\n",
    "!{sys.executable} -m pip install sklearn"
   ]
  },
  {
   "cell_type": "code",
   "execution_count": 2,
   "metadata": {},
   "outputs": [],
   "source": [
    "import pandas as pd\n",
    "import numpy as np\n",
    "import re\n",
    "import os"
   ]
  },
  {
   "cell_type": "code",
   "execution_count": 10,
   "metadata": {},
   "outputs": [],
   "source": [
    "docs = ['doc1.txt', 'doc2.txt', 'doc3.txt']"
   ]
  },
  {
   "cell_type": "code",
   "execution_count": 11,
   "metadata": {},
   "outputs": [],
   "source": [
    "# Import required libraries\n",
    "\n",
    "from string import punctuation\n",
    "import os\n",
    "\n",
    "# Define function\n",
    "def get_bow_from_docs(docs, stop_words=[]):\n",
    "    corpus = []\n",
    "    bag_of_words = []\n",
    "    term_freq = []\n",
    "\n",
    "    \n",
    "    \n",
    "    # In the function, first define the variables you will use such as `corpus`, `bag_of_words`, and `term_freq`.\n",
    "    \n",
    "    \n",
    "    \n",
    "    \"\"\"\n",
    "    Loop `docs` and read the content of each doc into a string in `corpus`.\n",
    "    Remember to convert the doc content to lowercases and remove punctuation.\n",
    "    \"\"\"\n",
    "    for file in docs:\n",
    "        \n",
    "        f = open(file, 'r')\n",
    "        x = f.read()\n",
    "        x = ''.join(i for i in x if i not in punctuation)\n",
    "        corpus.append(x.lower())\n",
    "        f.close()\n",
    "    \n",
    "    \n",
    "    \n",
    "    \n",
    "    \"\"\"\n",
    "    Loop `corpus`. Append the terms in each doc into the `bag_of_words` array. The terms in `bag_of_words` \n",
    "    should be unique which means before adding each term you need to check if it's already added to the array.\n",
    "    In addition, check if each term is in the `stop_words` array. Only append the term to `bag_of_words`\n",
    "    if it is not a stop word.\n",
    "    \"\"\"\n",
    "    for x in corpus:\n",
    "        x = ''.join(i for i in x if i not in punctuation)\n",
    "        terms = x.split()\n",
    "        for term in terms:\n",
    "            if not term in bag_of_words and not term in stop_words:\n",
    "                bag_of_words.append(term)\n",
    "    \n",
    "    \n",
    "    \"\"\"\n",
    "    Loop `corpus` again. For each doc string, count the number of occurrences of each term in `bag_of_words`. \n",
    "    Create an array for each doc's term frequency and append it to `term_freq`.\n",
    "    \"\"\"\n",
    "    for x in corpus:\n",
    "        freq = []\n",
    "        terms = x.split()\n",
    "        for word in bag_of_words:\n",
    "            freq.append(terms.count(word))\n",
    "        term_freq.append(freq)\n",
    "    \n",
    "    \n",
    "    # Now return your output as an object\n",
    "    return {\n",
    "        \"bag_of_words\": bag_of_words,\n",
    "        \"term_freq\": term_freq\n",
    "    }"
   ]
  },
  {
   "cell_type": "markdown",
   "metadata": {},
   "source": [
    "Test your function without stop words. You should see the output like below:\n",
    "\n",
    "```{'bag_of_words': ['ironhack', 'is', 'cool', 'i', 'love', 'am', 'a', 'student', 'at'], 'term_freq': [[1, 1, 1, 0, 0, 0, 0, 0, 0], [1, 0, 0, 1, 1, 0, 0, 0, 0], [1, 0, 0, 1, 0, 1, 1, 1, 1]]}```"
   ]
  },
  {
   "cell_type": "code",
   "execution_count": 12,
   "metadata": {},
   "outputs": [
    {
     "name": "stdout",
     "output_type": "stream",
     "text": [
      "{'bag_of_words': ['ironhack', 'is', 'cool', 'i', 'love', 'am', 'a', 'student', 'at'], 'term_freq': [[1, 1, 1, 0, 0, 0, 0, 0, 0], [1, 0, 0, 1, 1, 0, 0, 0, 0], [1, 0, 0, 1, 0, 1, 1, 1, 1]]}\n"
     ]
    }
   ],
   "source": [
    "# Define doc paths array\n",
    "path = os.getcwd()\n",
    "docs = [path + \"/\" + file for file in docs]\n",
    "\n",
    "# Obtain BoW from your function\n",
    "bow = get_bow_from_docs(docs)\n",
    "\n",
    "# Print BoW\n",
    "print(bow)"
   ]
  },
  {
   "cell_type": "markdown",
   "metadata": {},
   "source": [
    "If your attempt above is successful, nice work done!\n",
    "\n",
    "Now test your function again with the stop words. In the previous lab we defined the stop words in a large array. In this lab, we'll import the stop words from Scikit-Learn."
   ]
  },
  {
   "cell_type": "code",
   "execution_count": 13,
   "metadata": {},
   "outputs": [
    {
     "name": "stdout",
     "output_type": "stream",
     "text": [
      "frozenset({'neither', 'side', 'itself', 'this', 'hers', 'whether', 'fire', 'thru', 'for', 'already', 'thin', 'yet', 'nevertheless', 'first', 'further', 'interest', 'find', 'whither', 'seemed', 'next', 'whole', 'top', 'take', 'i', 'do', 'whose', 'mostly', 'seems', 'back', 'how', 'its', 'moreover', 'on', 'she', 'via', 'whatever', 'etc', 'five', 'not', 'latter', 'being', 'please', 'him', 'have', 'inc', 'own', 'thereafter', 'becoming', 'four', 'mill', 'indeed', 'see', 'only', 'such', 'over', 'because', 'some', 'my', 'same', 'move', 'as', 'keep', 'our', 'nor', 'rather', 'hasnt', 'across', 'nobody', 'while', 'has', 'here', 'from', 'against', 'third', 'last', 'either', 'herself', 'eleven', 'those', 'behind', 'under', 'somewhere', 'few', 'anything', 'been', 'anywhere', 'three', 'together', 'couldnt', 'system', 'was', 'her', 'one', 'amongst', 'others', 'herein', 'namely', 'forty', 'us', 'himself', 'their', 'everyone', 'bottom', 'thence', 'ten', 'anyhow', 'everywhere', 'front', 'now', 'whence', 'call', 'than', 'elsewhere', 'much', 'would', 'twelve', 'empty', 'sincere', 'twenty', 'also', 'mine', 'afterwards', 'almost', 'out', 'become', 'about', 'yours', 'describe', 'became', 'in', 'somehow', 'un', 'although', 'ourselves', 'thus', 'made', 'why', 'again', 'even', 'that', 'less', 'am', 'who', 'through', 'full', 'none', 'done', 'sometimes', 'will', 'sometime', 'be', 'nine', 'found', 'might', 'without', 'besides', 'to', 'per', 'with', 'noone', 'amoungst', 'nothing', 'until', 'whom', 'though', 'once', 'bill', 'toward', 'around', 'other', 'could', 'any', 'wherein', 'you', 'seeming', 'which', 'nowhere', 'serious', 'should', 'them', 'put', 'else', 'ltd', 'a', 'formerly', 'an', 'off', 'yourselves', 'several', 'towards', 'at', 'everything', 'whereafter', 'we', 'may', 'hereupon', 'enough', 'someone', 'go', 'part', 'his', 'de', 'detail', 'themselves', 'where', 'more', 'many', 'cant', 'me', 'or', 'below', 'too', 'among', 'yourself', 'however', 're', 'within', 'but', 'beforehand', 'except', 'still', 'and', 'otherwise', 'he', 'fifteen', 'therefore', 'between', 'each', 'had', 'hundred', 'perhaps', 'throughout', 'give', 'eight', 'thereupon', 'whereby', 'these', 'ever', 'were', 'hereby', 'cannot', 'meanwhile', 'co', 'very', 'myself', 'thick', 'then', 'along', 'are', 'whereupon', 'fifty', 'is', 'whereas', 'amount', 'well', 'up', 'cry', 'whenever', 'hereafter', 'whoever', 'always', 'if', 'what', 'both', 'all', 'something', 'least', 'upon', 'con', 'alone', 'hence', 'every', 'since', 'seem', 'name', 'there', 'get', 'beyond', 'show', 'when', 'can', 'two', 'ours', 'anyone', 'sixty', 'ie', 'six', 'before', 'eg', 'most', 'fill', 'no', 'down', 'never', 'becomes', 'by', 'anyway', 'they', 'onto', 'wherever', 'above', 'after', 'so', 'often', 'another', 'it', 'of', 'beside', 'your', 'latterly', 'former', 'thereby', 'into', 'must', 'due', 'therein', 'during', 'the'})\n"
     ]
    }
   ],
   "source": [
    "from sklearn.feature_extraction import stop_words\n",
    "stop_words = stop_words.ENGLISH_STOP_WORDS\n",
    "print(stop_words)"
   ]
  },
  {
   "cell_type": "markdown",
   "metadata": {},
   "source": [
    "You should have seen a large list of words that looks like:\n",
    "\n",
    "```frozenset({'across', 'mine', 'cannot', ...})```\n",
    "\n",
    "`frozenset` is a type of Python object that is immutable. In this lab you can use it just like an array without conversion."
   ]
  },
  {
   "cell_type": "markdown",
   "metadata": {},
   "source": [
    "Next, test your function with supplying `stop_words.ENGLISH_STOP_WORDS` as the second parameter."
   ]
  },
  {
   "cell_type": "code",
   "execution_count": 14,
   "metadata": {},
   "outputs": [
    {
     "name": "stdout",
     "output_type": "stream",
     "text": [
      "{'bag_of_words': ['ironhack', 'cool', 'love', 'student'], 'term_freq': [[1, 1, 0, 0], [1, 0, 1, 0], [1, 0, 0, 1]]}\n"
     ]
    }
   ],
   "source": [
    "bow = get_bow_from_docs(docs, stop_words)\n",
    "\n",
    "print(bow)"
   ]
  },
  {
   "cell_type": "markdown",
   "metadata": {},
   "source": [
    "You should have seen:\n",
    "\n",
    "```{'bag_of_words': ['ironhack', 'cool', 'love', 'student'], 'term_freq': [[1, 1, 0, 0], [1, 0, 1, 0], [1, 0, 0, 1]]}```"
   ]
  }
 ],
 "metadata": {
  "kernelspec": {
   "display_name": "Python 3",
   "language": "python",
   "name": "python3"
  },
  "language_info": {
   "codemirror_mode": {
    "name": "ipython",
    "version": 3
   },
   "file_extension": ".py",
   "mimetype": "text/x-python",
   "name": "python",
   "nbconvert_exporter": "python",
   "pygments_lexer": "ipython3",
   "version": "3.7.3"
  }
 },
 "nbformat": 4,
 "nbformat_minor": 2
}
